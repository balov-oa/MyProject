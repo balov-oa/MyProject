{
 "cells": [
  {
   "cell_type": "code",
   "execution_count": 13,
   "metadata": {},
   "outputs": [],
   "source": [
    "name = 'siga'\n",
    "nick = 'siga_idk'\n",
    "number = '23132313'\n",
    "lon = '55'\n",
    "lat = '45'\n",
    "\n",
    "a = f\"\"\"\n",
    "Имя: {name}\n",
    "Nick: {nick}\n",
    "Номер: {number}\"\"\"\n",
    "\n",
    "b = f\"\"\"\n",
    "Lon: {lon}\n",
    "Lat: {lat}\"\"\"\n",
    "\n"
   ]
  },
  {
   "cell_type": "code",
   "execution_count": null,
   "metadata": {},
   "outputs": [],
   "source": [
    "def get_cont(message):\n",
    "    if message.content_type == 'contact':\n",
    "        bot.send_message(message.chat.id,(\"Вы прошли регистрацию\\nОтправьте ваше местоположение.\"))\n",
    "        bot.send_message(-45XXXXX81,(\"Имя: \"+str(message.from_user.first_name)))\n",
    "        bot.send_message(-45XXXXX81,(\"Nick: \"+str(message.from_user.username)))\n",
    "        bot.send_message(-45XXXXX81,(\"Номер: \"+str(message.contact.phone_number)))\n",
    "    else:\n",
    "        bot.send_message(message.chat.id,(\"❤️Вы отправили ваше местоположение {0.first_name}❤️\\nДавайте дальше.\".format(message.from_user)))\n",
    "        bot.send_message(-45XXXXX81,(\"Долгота: \"+str(message.location.latitude)))\n",
    "        bot.send_message(-45XXXXX81,(\"Широта: \"+str(message.location.longitude)))"
   ]
  },
  {
   "cell_type": "code",
   "execution_count": null,
   "metadata": {},
   "outputs": [],
   "source": [
    "def get_cont(message):\n",
    "    if message.content_type == 'contact':\n",
    "        string = f\"Имя: {message.from_user.first_name}\\n\" \\\n",
    "                 f\"Nick: {message.from_user.username}\\n\" \\\n",
    "                 f\"Номер: {message.contact.phone_number}\\n\"\n",
    "        bot.send_message(message.chat.id,(\"Вы прошли регистрацию\\nОтправьте ваше местоположение.\"))\n",
    "        bot.send_message(-45XXXXX81,(string))\n",
    "    else:\n",
    "        string_2 = f\"Долгота: {message.location.latitude}\\n\" \\\n",
    "                   f\"Широта: {message.location.longitude}\\n\"\n",
    "        bot.send_message(message.chat.id,(\"❤️Вы отправили ваше местоположение {0.first_name}❤️\\nДавайте дальше.\".format(message.from_user)))\n",
    "        bot.send_message(-45XXXXX81,(string_2))"
   ]
  },
  {
   "cell_type": "code",
   "execution_count": 34,
   "metadata": {},
   "outputs": [],
   "source": [
    "string_2 = f\"Долгота: {1}\\n\" \\\n",
    "           f\"Широта: {2}\\n\""
   ]
  },
  {
   "cell_type": "code",
   "execution_count": 35,
   "metadata": {},
   "outputs": [
    {
     "name": "stdout",
     "output_type": "stream",
     "text": [
      "Долгота: 1\n",
      "Широта: 2\n",
      "\n"
     ]
    }
   ],
   "source": [
    "print(string_2)"
   ]
  },
  {
   "cell_type": "code",
   "execution_count": null,
   "metadata": {},
   "outputs": [],
   "source": []
  }
 ],
 "metadata": {
  "kernelspec": {
   "display_name": "Python 3",
   "language": "python",
   "name": "python3"
  },
  "language_info": {
   "codemirror_mode": {
    "name": "ipython",
    "version": 3
   },
   "file_extension": ".py",
   "mimetype": "text/x-python",
   "name": "python",
   "nbconvert_exporter": "python",
   "pygments_lexer": "ipython3",
   "version": "3.7.6"
  },
  "toc": {
   "base_numbering": 1,
   "nav_menu": {},
   "number_sections": true,
   "sideBar": true,
   "skip_h1_title": false,
   "title_cell": "Table of Contents",
   "title_sidebar": "Contents",
   "toc_cell": false,
   "toc_position": {},
   "toc_section_display": true,
   "toc_window_display": false
  }
 },
 "nbformat": 4,
 "nbformat_minor": 4
}
