{
 "cells": [
  {
   "cell_type": "markdown",
   "metadata": {
    "toc": true
   },
   "source": [
    "<h1>Оглавление<span class=\"tocSkip\"></span></h1>\n",
    "<div class=\"toc\"><ul class=\"toc-item\"><li><ul class=\"toc-item\"><li><span><a href=\"#Import-&amp;-Set-Options\" data-toc-modified-id=\"Import-&amp;-Set-Options-0.1\"><span class=\"toc-item-num\">0.1&nbsp;&nbsp;</span>Import &amp; Set Options</a></span></li><li><span><a href=\"#Utils\" data-toc-modified-id=\"Utils-0.2\"><span class=\"toc-item-num\">0.2&nbsp;&nbsp;</span>Utils</a></span></li><li><span><a href=\"#Read-Data\" data-toc-modified-id=\"Read-Data-0.3\"><span class=\"toc-item-num\">0.3&nbsp;&nbsp;</span>Read Data</a></span></li></ul></li><li><span><a href=\"#Анализ-признаков-без-взаимодействий,-первичная-фильтрация\" data-toc-modified-id=\"Анализ-признаков-без-взаимодействий,-первичная-фильтрация-1\"><span class=\"toc-item-num\">1&nbsp;&nbsp;</span>Анализ признаков без взаимодействий, первичная фильтрация</a></span><ul class=\"toc-item\"><li><span><a href=\"#Price\" data-toc-modified-id=\"Price-1.1\"><span class=\"toc-item-num\">1.1&nbsp;&nbsp;</span>Price</a></span></li><li><span><a href=\"#Square_Total\" data-toc-modified-id=\"Square_Total-1.2\"><span class=\"toc-item-num\">1.2&nbsp;&nbsp;</span>Square_Total</a></span></li><li><span><a href=\"#Square_Kitchen-(To-delete)\" data-toc-modified-id=\"Square_Kitchen-(To-delete)-1.3\"><span class=\"toc-item-num\">1.3&nbsp;&nbsp;</span>Square_Kitchen (To delete)</a></span></li><li><span><a href=\"#Square_Living-(To-delete)\" data-toc-modified-id=\"Square_Living-(To-delete)-1.4\"><span class=\"toc-item-num\">1.4&nbsp;&nbsp;</span>Square_Living (To delete)</a></span></li><li><span><a href=\"#Floors_In_Building\" data-toc-modified-id=\"Floors_In_Building-1.5\"><span class=\"toc-item-num\">1.5&nbsp;&nbsp;</span>Floors_In_Building</a></span></li><li><span><a href=\"#Floor\" data-toc-modified-id=\"Floor-1.6\"><span class=\"toc-item-num\">1.6&nbsp;&nbsp;</span>Floor</a></span></li><li><span><a href=\"#District\" data-toc-modified-id=\"District-1.7\"><span class=\"toc-item-num\">1.7&nbsp;&nbsp;</span>District</a></span></li><li><span><a href=\"#Year_Building-(Filtered)\" data-toc-modified-id=\"Year_Building-(Filtered)-1.8\"><span class=\"toc-item-num\">1.8&nbsp;&nbsp;</span>Year_Building (Filtered)</a></span></li><li><span><a href=\"#Material-(Filtered)\" data-toc-modified-id=\"Material-(Filtered)-1.9\"><span class=\"toc-item-num\">1.9&nbsp;&nbsp;</span>Material (Filtered)</a></span></li><li><span><a href=\"#Apartment_Type-(To-delete)\" data-toc-modified-id=\"Apartment_Type-(To-delete)-1.10\"><span class=\"toc-item-num\">1.10&nbsp;&nbsp;</span>Apartment_Type (To delete)</a></span></li><li><span><a href=\"#Rooms_Number-(Filtered)\" data-toc-modified-id=\"Rooms_Number-(Filtered)-1.11\"><span class=\"toc-item-num\">1.11&nbsp;&nbsp;</span>Rooms_Number (Filtered)</a></span></li><li><span><a href=\"#Apartment_Condition\" data-toc-modified-id=\"Apartment_Condition-1.12\"><span class=\"toc-item-num\">1.12&nbsp;&nbsp;</span>Apartment_Condition</a></span></li><li><span><a href=\"#Bathroom_Type\" data-toc-modified-id=\"Bathroom_Type-1.13\"><span class=\"toc-item-num\">1.13&nbsp;&nbsp;</span>Bathroom_Type</a></span></li><li><span><a href=\"#Balcony_Loggia\" data-toc-modified-id=\"Balcony_Loggia-1.14\"><span class=\"toc-item-num\">1.14&nbsp;&nbsp;</span>Balcony_Loggia</a></span></li><li><span><a href=\"#Address,-Date_Add,-Date_Expiration\" data-toc-modified-id=\"Address,-Date_Add,-Date_Expiration-1.15\"><span class=\"toc-item-num\">1.15&nbsp;&nbsp;</span>Address, Date_Add, Date_Expiration</a></span></li><li><span><a href=\"#Summary\" data-toc-modified-id=\"Summary-1.16\"><span class=\"toc-item-num\">1.16&nbsp;&nbsp;</span>Summary</a></span></li></ul></li><li><span><a href=\"#Анализ-признаков-с-взаимодействиями,-фильтрация-данных\" data-toc-modified-id=\"Анализ-признаков-с-взаимодействиями,-фильтрация-данных-2\"><span class=\"toc-item-num\">2&nbsp;&nbsp;</span>Анализ признаков с взаимодействиями, фильтрация данных</a></span><ul class=\"toc-item\"><li><span><a href=\"#1-комнатные-квартиры\" data-toc-modified-id=\"1-комнатные-квартиры-2.1\"><span class=\"toc-item-num\">2.1&nbsp;&nbsp;</span>1-комнатные квартиры</a></span><ul class=\"toc-item\"><li><span><a href=\"#Price-&amp;-Square_Total\" data-toc-modified-id=\"Price-&amp;-Square_Total-2.1.1\"><span class=\"toc-item-num\">2.1.1&nbsp;&nbsp;</span>Price &amp; Square_Total</a></span></li><li><span><a href=\"#Price-&amp;-Floors_In_Building\" data-toc-modified-id=\"Price-&amp;-Floors_In_Building-2.1.2\"><span class=\"toc-item-num\">2.1.2&nbsp;&nbsp;</span>Price &amp; Floors_In_Building</a></span><ul class=\"toc-item\"><li><span><a href=\"#Floors_In_Buildings-=-3\" data-toc-modified-id=\"Floors_In_Buildings-=-3-2.1.2.1\"><span class=\"toc-item-num\">2.1.2.1&nbsp;&nbsp;</span>Floors_In_Buildings = 3</a></span></li><li><span><a href=\"#Floors_In_Buildings-=-4\" data-toc-modified-id=\"Floors_In_Buildings-=-4-2.1.2.2\"><span class=\"toc-item-num\">2.1.2.2&nbsp;&nbsp;</span>Floors_In_Buildings = 4</a></span></li><li><span><a href=\"#Floors_In_Buildings-=-12\" data-toc-modified-id=\"Floors_In_Buildings-=-12-2.1.2.3\"><span class=\"toc-item-num\">2.1.2.3&nbsp;&nbsp;</span>Floors_In_Buildings = 12</a></span></li><li><span><a href=\"#Floors_In_Buildings-=-19\" data-toc-modified-id=\"Floors_In_Buildings-=-19-2.1.2.4\"><span class=\"toc-item-num\">2.1.2.4&nbsp;&nbsp;</span>Floors_In_Buildings = 19</a></span></li></ul></li><li><span><a href=\"#Price-&amp;-Floor\" data-toc-modified-id=\"Price-&amp;-Floor-2.1.3\"><span class=\"toc-item-num\">2.1.3&nbsp;&nbsp;</span>Price &amp; Floor</a></span></li><li><span><a href=\"#Price-&amp;-District\" data-toc-modified-id=\"Price-&amp;-District-2.1.4\"><span class=\"toc-item-num\">2.1.4&nbsp;&nbsp;</span>Price &amp; District</a></span></li><li><span><a href=\"#Price-&amp;-Year_Building\" data-toc-modified-id=\"Price-&amp;-Year_Building-2.1.5\"><span class=\"toc-item-num\">2.1.5&nbsp;&nbsp;</span>Price &amp; Year_Building</a></span></li><li><span><a href=\"#Price-&amp;-Material\" data-toc-modified-id=\"Price-&amp;-Material-2.1.6\"><span class=\"toc-item-num\">2.1.6&nbsp;&nbsp;</span>Price &amp; Material</a></span></li><li><span><a href=\"#Price-&amp;-Apartment_Condition\" data-toc-modified-id=\"Price-&amp;-Apartment_Condition-2.1.7\"><span class=\"toc-item-num\">2.1.7&nbsp;&nbsp;</span>Price &amp; Apartment_Condition</a></span></li><li><span><a href=\"#Price-&amp;-Bathroom_Type\" data-toc-modified-id=\"Price-&amp;-Bathroom_Type-2.1.8\"><span class=\"toc-item-num\">2.1.8&nbsp;&nbsp;</span>Price &amp; Bathroom_Type</a></span></li><li><span><a href=\"#Price-&amp;-Balcony_Loggia\" data-toc-modified-id=\"Price-&amp;-Balcony_Loggia-2.1.9\"><span class=\"toc-item-num\">2.1.9&nbsp;&nbsp;</span>Price &amp; Balcony_Loggia</a></span></li><li><span><a href=\"#Summary\" data-toc-modified-id=\"Summary-2.1.10\"><span class=\"toc-item-num\">2.1.10&nbsp;&nbsp;</span>Summary</a></span></li></ul></li></ul></li><li><span><a href=\"#Создание-моделей-и-новых-признаков\" data-toc-modified-id=\"Создание-моделей-и-новых-признаков-3\"><span class=\"toc-item-num\">3&nbsp;&nbsp;</span>Создание моделей и новых признаков</a></span><ul class=\"toc-item\"><li><span><a href=\"#1-комнатные-квартиры\" data-toc-modified-id=\"1-комнатные-квартиры-3.1\"><span class=\"toc-item-num\">3.1&nbsp;&nbsp;</span>1-комнатные квартиры</a></span><ul class=\"toc-item\"><li><span><a href=\"#Baseline\" data-toc-modified-id=\"Baseline-3.1.1\"><span class=\"toc-item-num\">3.1.1&nbsp;&nbsp;</span>Baseline</a></span><ul class=\"toc-item\"><li><span><a href=\"#KNeighborsRegressor\" data-toc-modified-id=\"KNeighborsRegressor-3.1.1.1\"><span class=\"toc-item-num\">3.1.1.1&nbsp;&nbsp;</span>KNeighborsRegressor</a></span></li><li><span><a href=\"#LinearRegression\" data-toc-modified-id=\"LinearRegression-3.1.1.2\"><span class=\"toc-item-num\">3.1.1.2&nbsp;&nbsp;</span>LinearRegression</a></span></li><li><span><a href=\"#RandomForestRegressor\" data-toc-modified-id=\"RandomForestRegressor-3.1.1.3\"><span class=\"toc-item-num\">3.1.1.3&nbsp;&nbsp;</span>RandomForestRegressor</a></span></li></ul></li></ul></li></ul></li><li><span><a href=\"#Save-to-excel\" data-toc-modified-id=\"Save-to-excel-4\"><span class=\"toc-item-num\">4&nbsp;&nbsp;</span>Save to excel</a></span><ul class=\"toc-item\"><li><span><a href=\"#openpyxl\" data-toc-modified-id=\"openpyxl-4.1\"><span class=\"toc-item-num\">4.1&nbsp;&nbsp;</span>openpyxl</a></span></li></ul></li></ul></div>"
   ]
  },
  {
   "cell_type": "markdown",
   "metadata": {},
   "source": [
    "## Import & Set Options"
   ]
  },
  {
   "cell_type": "code",
   "execution_count": 1,
   "metadata": {},
   "outputs": [],
   "source": [
    "import pandas as pd\n",
    "import numpy as np\n",
    "import json\n",
    "import seaborn as sns\n",
    "import matplotlib.pyplot as plt\n",
    "from pathlib import Path\n",
    "from os import listdir\n",
    "import urllib\n",
    "from sqlalchemy import create_engine\n",
    "\n",
    "import xgboost as xgb\n",
    "from sklearn.model_selection import train_test_split \n",
    "from sklearn.model_selection import GridSearchCV\n",
    "from sklearn.ensemble  import RandomForestRegressor\n",
    "from sklearn.neighbors import KNeighborsRegressor\n",
    "from sklearn.linear_model import LinearRegression\n",
    "from sklearn.metrics import mean_absolute_error\n",
    "import pickle\n",
    "from typing import List\n",
    "\n",
    "\n",
    "# import geocoder\n",
    "pd.set_option('display.max_rows', 2000)\n",
    "pd.set_option('display.max_columns', 50)\n",
    "sns.set(rc={'figure.figsize': (15, 10)},\n",
    "        style='whitegrid')\n",
    "# sns.set_style(\"whitegrid\")\n",
    "# %matplotlib inline\n",
    "\n",
    "params = urllib.parse.quote_plus(\"DRIVER={SQL Server Native Client 11.0};\"\n",
    "                                 \"SERVER=OLEG;\"\n",
    "                                 \"DATABASE=Apartment_Tomsk;\"\n",
    "                                 \"Trusted_Connection=yes\")\n",
    "engine = create_engine(f\"mssql+pyodbc:///?odbc_connect={params}\")"
   ]
  },
  {
   "cell_type": "code",
   "execution_count": 2,
   "metadata": {},
   "outputs": [],
   "source": [
    "# address = ['Томск, Ванцетти переулок 6 2']\n",
    "\n",
    "# for i in address:\n",
    "#     test = get_soup_by_url('https://yandex.ru/maps/67/tomsk/search/{0}%2C/?ll=84.988419%2C56.533635&sll=84.988423%2C56.461173&sspn=0.008219%2C0.007510&z=11'.format(i))\n",
    "#     print(i, '-', test.find('div', {'class':'clipboard__action-wrapper _inline'}).text)\n",
    "#     time.sleep(random.randint(1, 3))"
   ]
  },
  {
   "cell_type": "code",
   "execution_count": 3,
   "metadata": {},
   "outputs": [],
   "source": [
    "# import re\n",
    "\n",
    "# for i in df['Address'][0:100]:\n",
    "#     print({re.match(r'\\D+', i)[0].rstrip(): i})\n",
    "\n",
    "# df['Address']"
   ]
  },
  {
   "cell_type": "markdown",
   "metadata": {},
   "source": [
    "## Utils"
   ]
  },
  {
   "cell_type": "code",
   "execution_count": 4,
   "metadata": {},
   "outputs": [],
   "source": [
    "def convert_to_dummies(dataframe: pd.DataFrame) -> pd.DataFrame:\n",
    "    df = dataframe.copy()\n",
    "    df['District_Kir'] = df['District'] == 'кировский район'\n",
    "    df['District_Len'] = df['District'] == 'ленинский район'\n",
    "    df['District_Sov'] = df['District'] == 'советский район'\n",
    "    df['District_Oct'] = df['District'] == 'октябрьский район'\n",
    "    \n",
    "    df['Material_Brick'] = df['Material'] == 'кирпич'\n",
    "    df['Material_Monolith'] = df['Material'] == 'монолит'\n",
    "    df['Material_Panel'] = df['Material'] == 'панель'\n",
    "    df['Material_Not_Info'] = df['Material'] == 'Нет значения'\n",
    "    \n",
    "    df['Apartment_Condition_Excellent'] = df['Apartment_Condition'] == 'в отличном состоянии'\n",
    "    df['Apartment_Condition_Good'] = df['Apartment_Condition'] == 'в хорошем состоянии'\n",
    "    df['Apartment_Condition_Need_Repair'] = df['Apartment_Condition'] == 'требуется ремонт'\n",
    "    df['Apartment_Condition_Raw_Finish'] = df['Apartment_Condition'] == 'черновая отделка'\n",
    "    df['Apartment_Condition_Not_Info'] = df['Apartment_Condition'] == 'Нет значения'\n",
    "    \n",
    "    df['Bathroom_Type_Combined'] = df['Bathroom_Type'] == 'совмещенный'\n",
    "    df['Bathroom_Type_Separate'] = df['Bathroom_Type'] == 'раздельный'\n",
    "    df['Bathroom_Type_Not_Info'] = df['Bathroom_Type'] == 'Нет значения'\n",
    "    \n",
    "    df['Balcony_Loggia_Balcony'] = df['Balcony_Loggia'] == 'балкон'\n",
    "    df['Balcony_Loggia_Loggia'] = df['Balcony_Loggia'] == 'лоджия'\n",
    "    df['Balcony_Loggia_Balcony_Glazing'] = df['Balcony_Loggia'] == 'балкон, остекление'\n",
    "    df['Balcony_Loggia_Loggia_Glazing'] = df['Balcony_Loggia'] == 'лоджия, остекление'\n",
    "    df['Balcony_Loggia_Not_Info'] = df['Balcony_Loggia'] == 'Нет значения'\n",
    "    df.drop(['District', 'Material', 'Apartment_Condition', 'Bathroom_Type', 'Balcony_Loggia'], axis=1, inplace=True)\n",
    "    \n",
    "    return df"
   ]
  },
  {
   "cell_type": "code",
   "execution_count": 5,
   "metadata": {},
   "outputs": [],
   "source": [
    "def save_model(model,\n",
    "               model_name: str, \n",
    "               rooms_number: int,\n",
    "               X_test: pd.DataFrame,\n",
    "               y_test: pd.Series) -> None:\n",
    "    \n",
    "    model_path = Path(r'C:\\Users\\qwerty.Oleg\\Desktop\\MyProject\\models')\n",
    "    \n",
    "    # Save model to folder\n",
    "    # If model_name already exist in model_path, then append \"Copy\"\n",
    "    for file in listdir(model_path):\n",
    "        if model_name in file:\n",
    "            model_name += ' (Copy)'\n",
    "    model_name = model_name + '.pkl'\n",
    "    full_model_path = model_path.joinpath(model_name)\n",
    "    \n",
    "    with open(full_model_path, 'wb') as file:\n",
    "        pickle.dump(model, file)\n",
    "    \n",
    "    # Make predict, mae, extract model features\n",
    "    predict = model.predict(X_test)\n",
    "    mae = mean_absolute_error(predict, y_test).round(2)\n",
    "    model_features = '; '.join(X_test.columns)\n",
    "    \n",
    "    \n",
    "            \n",
    "    # Save model information to SQL\n",
    "    sql_expression = f\"\"\"INSERT INTO [dbo].[Models]\n",
    "                                   ([Model_name]\n",
    "                                   ,[Model_path]\n",
    "                                   ,[Mean_absolute_error]\n",
    "                                   ,[Rooms_Number]\n",
    "                                   ,[Model_features])\n",
    "                             VALUES\n",
    "                                   ('{model_name}'\n",
    "                                   ,'{full_model_path}'\n",
    "                                   ,{mae}\n",
    "                                   ,{rooms_number}\n",
    "                                   ,'{model_features}')\"\"\"\n",
    "    engine.execute(sql_expression)\n",
    "    \n",
    "    print(f'Save path: {full_model_path}')"
   ]
  },
  {
   "cell_type": "code",
   "execution_count": 6,
   "metadata": {},
   "outputs": [],
   "source": [
    "def predict(model_name: str, \n",
    "            data_to_predict: pd.DataFrame) -> pd.Series:\n",
    "\n",
    "    # Get model info\n",
    "    sql_expression = f\"\"\"SELECT Model_path,\n",
    "                                Model_features \n",
    "                         FROM Models \n",
    "                         WHERE Model_name = '{model_name}'\"\"\"\n",
    "    model_info = engine.execute(sql_expression).fetchone()\n",
    "    print(model_info)\n",
    "    \n",
    "    if model_info is None:\n",
    "        raise ValueError(f\"Model '{model_name}' does not exist\")\n",
    "    \n",
    "    model_path = model_info[0]\n",
    "    model_columns = model_info[1].split('; ')\n",
    "    difference_between_columns = set(model_columns).difference(set(data_to_predict.columns))\n",
    "    \n",
    "    if difference_between_columns != set():\n",
    "        raise ValueError(f'Columns {difference_between_columns} not found in put data')\n",
    "    \n",
    "    # Load model\n",
    "    print(model_path)\n",
    "    with open(model_path, 'rb') as file:\n",
    "        model = pickle.load(file)\n",
    "    \n",
    "    # Make predict\n",
    "    raw_predict = model.predict(data_to_predict[model_columns]).round(2)\n",
    "    predict = pd.Series(data=raw_predict,\n",
    "                        index=data_to_predict.index,\n",
    "                        name='Predict')\n",
    "    \n",
    "    return predict"
   ]
  },
  {
   "cell_type": "code",
   "execution_count": 7,
   "metadata": {},
   "outputs": [],
   "source": [
    "def get_coordinate_by_address(Address_List):\n",
    "    \n",
    "    address_set = set(Address_List)\n",
    "    \n",
    "    path = 'C:/Users/qwerty.Oleg/Desktop/MyProject/Data/'\n",
    "    filename1 = path + 'coord_dict.json'\n",
    "    filename2 = path + 'coord_not_info_dict.json'\n",
    "\n",
    "    if 'coord_dict.json' in listdir(path):\n",
    "        with open(filename1, 'r') as file:\n",
    "            coord_dict = json.load(file)\n",
    "    else:\n",
    "        coord_dict = {}\n",
    "\n",
    "    if 'coord_not_info_dict.json' in listdir(path):\n",
    "        with open(filename2, 'r') as file2:\n",
    "            coord_not_info_dict = json.load(file2)\n",
    "    else:\n",
    "        coord_not_info_dict = {}\n",
    "\n",
    "    len_storage = len(coord_dict)\n",
    "    print('Coordinates in storage:', len_storage, '\\n')\n",
    "\n",
    "    address_to_load = address_set.difference(set(coord_dict))\n",
    "\n",
    "    for i, address in enumerate(address_to_load):\n",
    "        print(i / len(address_to_load))\n",
    "        g = geocoder.osm(address)\n",
    "        if g.osm is not None and len(g.osm) == 8:\n",
    "            coord_dict[address] = g.latlng\n",
    "        else:\n",
    "            coord_dict[address] = [None, None]\n",
    "            coord_not_info_dict[address] = [None, None]\n",
    "\n",
    "    with open(filename1, 'w') as file1:\n",
    "        json.dump(coord_dict, file1, ensure_ascii=False)\n",
    "    with open(filename2, 'w') as file2:\n",
    "        json.dump(coord_not_info_dict, file2, ensure_ascii=False)\n",
    "\n",
    "    output_DataFrame = pd.DataFrame(list(map(lambda x: coord_dict[x], Address_List)),\n",
    "                                    index=Address_List.index,\n",
    "                                    columns=['X', 'Y'])\n",
    "\n",
    "    return output_DataFrame"
   ]
  },
  {
   "cell_type": "code",
   "execution_count": 8,
   "metadata": {},
   "outputs": [],
   "source": [
    "def extract_floor(x: str) -> int:\n",
    "        floor = x.split('/')[0]\n",
    "        if floor.isdigit():\n",
    "            return int(floor)\n",
    "        else:\n",
    "            return 0"
   ]
  },
  {
   "cell_type": "code",
   "execution_count": 9,
   "metadata": {},
   "outputs": [],
   "source": [
    "def handle_dataframe(df: pd.DataFrame) -> pd.DataFrame:\n",
    "    \n",
    "    # Change columns type\n",
    "    df['Date_Add'] = df['Date_Add'].apply(lambda x: pd.to_datetime(x, format='%d.%m.%Y %H:%M:%S'))\n",
    "    df['Date_Expiration'] = df['Date_Expiration'].apply(lambda x: pd.to_datetime(x, format='%d.%m.%Y'))\n",
    "    df['Year_Building'] = df['Year_Building'].apply(lambda x: float(x))\n",
    "    df['Rooms_Number'] = df['Rooms_Number'].apply(lambda x: int(x))\n",
    "    df['Floors_In_Building'] = df['Floors_In_Building'].apply(lambda x: int(x))\n",
    "    \n",
    "    # Change columns values\n",
    "    df['Square_Total'] = df['Square_Total'].apply(lambda x: None if x is None else float(x.replace(' кв.м', '')))\n",
    "    df['Square_Kitchen'] = df['Square_Kitchen'].apply(lambda x: None if x is None else float(x.replace(' кв.м', '')))\n",
    "    df['Square_Living'] = df['Square_Living'].apply(lambda x: None if x is None else float(x.replace(' кв.м', '')))\n",
    "    df['Address'] = df['Address'].apply(lambda x: 'Томск, ' + x)\n",
    "    df['Price'] =  df['Price'].apply(lambda x: x / 1000)\n",
    "    \n",
    "    # Insert new columns\n",
    "    df.insert(7, 'Floor', df['Floor_Numbers_Of_Floors'].apply(extract_floor))   \n",
    "    df.insert(19, 'Not_Used', 0)   \n",
    "    df.insert(20, 'Not_Used_Description', None)\n",
    "    \n",
    "    # Filter dataset\n",
    "    df = df[df['Sales_Type'] == 'вторичное']\n",
    "    \n",
    "    # Drop useless columns\n",
    "    df.drop(['Floor_Numbers_Of_Floors', 'Id', 'Sales_Type'], axis=1, inplace=True)\n",
    "    \n",
    "    return df"
   ]
  },
  {
   "cell_type": "code",
   "execution_count": 10,
   "metadata": {},
   "outputs": [],
   "source": [
    "def quantile_values_plot(df, value, groupby=False):\n",
    "    quantils = []\n",
    "    values = []\n",
    "    by = []\n",
    "\n",
    "    if groupby :\n",
    "        for j in df[groupby].unique().tolist():\n",
    "            for i in np.arange(0, 1, 0.01):\n",
    "                values.append(df.loc[df[groupby] == j, value].quantile(i))\n",
    "                quantils.append(i)\n",
    "                by.append(f'{groupby}: {j}')\n",
    "    else:\n",
    "        for i in np.arange(0, 1, 0.01):\n",
    "            values.append(df[value].quantile(i))\n",
    "            quantils.append(i)\n",
    "        \n",
    "    plot = sns.lineplot(quantils, values, hue=None if not groupby else by)\n",
    "    plot.set_xticks(np.arange(0, 1, 0.05))\n",
    "    plot.set(xlabel='Quantiles', ylabel=value);\n",
    "    \n",
    "    return plot"
   ]
  },
  {
   "cell_type": "code",
   "execution_count": 11,
   "metadata": {},
   "outputs": [],
   "source": [
    "def box_count_plot(y: str, x: str, df: pd.DataFrame):\n",
    "    \n",
    "    max_values = max(df[y])\n",
    "    min_values = min(df[y])\n",
    "        \n",
    "    if isinstance(df[x][0], str):\n",
    "        nobs = df[x].value_counts().sort_values(ascending=False).values\n",
    "        order = df[x].value_counts().sort_values(ascending=False).index\n",
    "    else:\n",
    "        nobs = df[x].value_counts().sort_index().values\n",
    "        order = df[x].value_counts().sort_index().index\n",
    "    nobs = [str(x) for x in nobs.tolist()]\n",
    "    nobs = [\"n: \" + i for i in nobs]\n",
    "    \n",
    "    plot = sns.boxplot(x=x, y=y, data=df, order=order)\n",
    "    # Add it to the plot\n",
    "    pos = range(len(nobs))\n",
    "    for tick,label in zip(pos,plot.get_xticklabels()):\n",
    "        plot.text(pos[tick], min_values*0.5, nobs[tick],\n",
    "    horizontalalignment='center', size=12, color='black', weight='semibold')\n",
    "    plot.set(ylim=(0, max_values*1.1))\n",
    "    \n",
    "    return plot"
   ]
  },
  {
   "cell_type": "code",
   "execution_count": 12,
   "metadata": {},
   "outputs": [],
   "source": [
    "def count_missing_values(column: pd.Series) -> None:\n",
    "    missing_values = sum(column.isna())\n",
    "    print(f'Missing values: {missing_values} ({100 * round(missing_values / len(column), 2)}%)')"
   ]
  },
  {
   "cell_type": "code",
   "execution_count": 13,
   "metadata": {},
   "outputs": [],
   "source": [
    "def clean(df: pd.DataFrame) -> pd.DataFrame:\n",
    "    return df[df['Not_Used'] == 0]"
   ]
  },
  {
   "cell_type": "markdown",
   "metadata": {},
   "source": [
    "Прежде всего следует отбросить квартиры, относящиеся к первичному рынку недвижимости, так как они не должны принимать участие в анализе."
   ]
  },
  {
   "cell_type": "markdown",
   "metadata": {},
   "source": [
    "## Read Data"
   ]
  },
  {
   "cell_type": "code",
   "execution_count": null,
   "metadata": {
    "scrolled": false
   },
   "outputs": [],
   "source": [
    "df = pd.read_sql_table('Apartments_Analysis', engine, index_col='Url_Link')\n",
    "df = handle_dataframe(df)\n",
    "df"
   ]
  },
  {
   "cell_type": "markdown",
   "metadata": {},
   "source": [
    "# Анализ признаков без взаимодействий, первичная фильтрация\n",
    "В данном разделе в целях знакомства с данными будет проведен краткий и поверхностный анализ имеющихся признаков."
   ]
  },
  {
   "cell_type": "code",
   "execution_count": null,
   "metadata": {
    "scrolled": false
   },
   "outputs": [],
   "source": [
    "df.info()"
   ]
  },
  {
   "cell_type": "code",
   "execution_count": null,
   "metadata": {
    "scrolled": false
   },
   "outputs": [],
   "source": [
    "df.columns.tolist()"
   ]
  },
  {
   "cell_type": "markdown",
   "metadata": {},
   "source": [
    "## Price"
   ]
  },
  {
   "cell_type": "code",
   "execution_count": null,
   "metadata": {
    "scrolled": true
   },
   "outputs": [],
   "source": [
    "count_missing_values(df['Price'])\n",
    "df['Price'].describe()"
   ]
  },
  {
   "cell_type": "markdown",
   "metadata": {},
   "source": [
    "Из описания признака видно, что наименьшей стоимостью является 8 т.р., медианной 2500 т.р., а наибольшим значением является 30000 т.р. (30 миллиона рублей).  \n",
    "Следует построить гистрограмму распределения"
   ]
  },
  {
   "cell_type": "code",
   "execution_count": null,
   "metadata": {
    "scrolled": false
   },
   "outputs": [],
   "source": [
    "plot = sns.distplot(df['Price'])\n",
    "plot.set_xticks(np.arange(0, 35000,5000));"
   ]
  },
  {
   "cell_type": "markdown",
   "metadata": {},
   "source": [
    "Как и предполагалось, ряд имеет ярко выраженную ассиметрию. Эта ситуация весьма типична для рынка недвижимости, так как при большом количестве однородных квартир существует крайне малое количество дорогих квартир.\n"
   ]
  },
  {
   "cell_type": "code",
   "execution_count": null,
   "metadata": {},
   "outputs": [],
   "source": [
    "plot = quantile_values_plot(df, 'Price')\n",
    "plot.set_yticks(np.arange(0, 12000,1000));"
   ]
  },
  {
   "cell_type": "markdown",
   "metadata": {},
   "source": [
    "Как видно из графика, практически 90% квартир обладают стоимостью менее 5000 т.р.  \n",
    "В такой ситуации имеет место фильтрация данных, которая будет проводиться в дальнейшем"
   ]
  },
  {
   "cell_type": "markdown",
   "metadata": {},
   "source": [
    "## Square_Total"
   ]
  },
  {
   "cell_type": "code",
   "execution_count": null,
   "metadata": {},
   "outputs": [],
   "source": [
    "count_missing_values(df['Square_Total'])\n",
    "df['Square_Total'].describe()"
   ]
  },
  {
   "cell_type": "code",
   "execution_count": null,
   "metadata": {},
   "outputs": [],
   "source": [
    "plot = sns.distplot(df['Square_Total'])\n",
    "plot.set_xticks(np.arange(0, 450,50));"
   ]
  },
  {
   "cell_type": "code",
   "execution_count": null,
   "metadata": {
    "scrolled": false
   },
   "outputs": [],
   "source": [
    "plot = quantile_values_plot(df, 'Square_Total')\n",
    "plot.set_yticks(np.arange(0, 140,10));"
   ]
  },
  {
   "cell_type": "markdown",
   "metadata": {},
   "source": [
    "Поведение признака Square_Total подобно признаку Price, так как Square_Total сильнее всего влияет на Price."
   ]
  },
  {
   "cell_type": "markdown",
   "metadata": {},
   "source": [
    "## Square_Kitchen (To delete)"
   ]
  },
  {
   "cell_type": "code",
   "execution_count": null,
   "metadata": {
    "scrolled": true
   },
   "outputs": [],
   "source": [
    "count_missing_values(df['Square_Kitchen'])\n",
    "df['Square_Kitchen'].describe()"
   ]
  },
  {
   "cell_type": "code",
   "execution_count": null,
   "metadata": {
    "scrolled": false
   },
   "outputs": [],
   "source": [
    "sns.distplot(df['Square_Kitchen']);"
   ]
  },
  {
   "cell_type": "code",
   "execution_count": null,
   "metadata": {},
   "outputs": [],
   "source": [
    "quantile_values_plot(df, 'Square_Kitchen')"
   ]
  },
  {
   "cell_type": "markdown",
   "metadata": {},
   "source": [
    "## Square_Living (To delete)"
   ]
  },
  {
   "cell_type": "code",
   "execution_count": null,
   "metadata": {},
   "outputs": [],
   "source": [
    "count_missing_values(df['Square_Living'])\n",
    "df['Square_Living'].describe()"
   ]
  },
  {
   "cell_type": "code",
   "execution_count": null,
   "metadata": {},
   "outputs": [],
   "source": [
    "plot = sns.distplot(df['Square_Living'])\n",
    "plot.set_xticks(np.arange(0, 450,50));"
   ]
  },
  {
   "cell_type": "code",
   "execution_count": null,
   "metadata": {},
   "outputs": [],
   "source": [
    "plot = quantile_values_plot(df, 'Square_Living')\n",
    "plot.set_yticks(np.arange(0, 100,5));"
   ]
  },
  {
   "cell_type": "markdown",
   "metadata": {},
   "source": [
    "Признаки Square_Kitchen и Square_Living имеют слишком много пропущенных значений, данные признаки следует исключить из анализа."
   ]
  },
  {
   "cell_type": "code",
   "execution_count": null,
   "metadata": {},
   "outputs": [],
   "source": [
    "# df.drop(['Square_Kitchen', 'Square_Living'], axis=1, inplace=True)"
   ]
  },
  {
   "cell_type": "markdown",
   "metadata": {},
   "source": [
    "## Floors_In_Building"
   ]
  },
  {
   "cell_type": "code",
   "execution_count": null,
   "metadata": {
    "scrolled": false
   },
   "outputs": [],
   "source": [
    "count_missing_values(df['Floors_In_Building'])\n",
    "print(df['Floors_In_Building'].describe())\n",
    "df['Floors_In_Building'].value_counts()"
   ]
  },
  {
   "cell_type": "code",
   "execution_count": null,
   "metadata": {},
   "outputs": [],
   "source": [
    "plot = sns.countplot(df['Floors_In_Building'])\n",
    "plot.set_yticks(np.arange(0, 1901,100));"
   ]
  },
  {
   "cell_type": "markdown",
   "metadata": {},
   "source": [
    "Как видно из графика, чаще всего встречаются здания с 5, 9 и 10 этажами, что объясняется большим количеством домов 75 и 86 серий, а также так называемыми \"хрущевками\". \n",
    "<br>\n",
    "Эти типы домов зачастую имеют этажность 5, 9 и 10 этажей.  \n",
    "Из выборки будут удалены квартиры, в которых этажность здания равна 1."
   ]
  },
  {
   "cell_type": "code",
   "execution_count": null,
   "metadata": {},
   "outputs": [],
   "source": [
    "df = df[df['Floors_In_Building'] != 1]"
   ]
  },
  {
   "cell_type": "markdown",
   "metadata": {},
   "source": [
    "## Floor"
   ]
  },
  {
   "cell_type": "code",
   "execution_count": null,
   "metadata": {},
   "outputs": [],
   "source": [
    "count_missing_values(df['Floor'])\n",
    "print(df['Floor'].describe())\n",
    "df['Floor'].value_counts()"
   ]
  },
  {
   "cell_type": "code",
   "execution_count": null,
   "metadata": {
    "scrolled": false
   },
   "outputs": [],
   "source": [
    "plot = sns.countplot(df['Floor']);\n",
    "plot.set_yticks(np.arange(0, 1200,100));"
   ]
  },
  {
   "cell_type": "markdown",
   "metadata": {},
   "source": [
    "По графику видно, что с увеличением этажа расположения квартиры, они реже попадают в объявления о продаже. \n",
    "<br>\n",
    "В дальнейшем предстоит разобраться с природой такого поведения.\n",
    "Из выборки будут удалены квартиры, расположенные на нулевом этаже."
   ]
  },
  {
   "cell_type": "code",
   "execution_count": null,
   "metadata": {},
   "outputs": [],
   "source": [
    "df = df[df['Floor'] != 0]"
   ]
  },
  {
   "cell_type": "markdown",
   "metadata": {},
   "source": [
    "## District"
   ]
  },
  {
   "cell_type": "code",
   "execution_count": null,
   "metadata": {},
   "outputs": [],
   "source": [
    "count_missing_values(df['District'])\n",
    "print(df['District'].describe())\n",
    "df['District'].value_counts()"
   ]
  },
  {
   "cell_type": "code",
   "execution_count": null,
   "metadata": {
    "scrolled": false
   },
   "outputs": [],
   "source": [
    "plot = sns.countplot(df['District'])\n",
    "plot.set_yticks(np.arange(0, 2300,200));"
   ]
  },
  {
   "cell_type": "markdown",
   "metadata": {},
   "source": [
    "Квартиры чаще всего продаются в Октябрьском районе, реже всего в Кировском районе, у Советского и Ленинского примерное равенство."
   ]
  },
  {
   "cell_type": "markdown",
   "metadata": {},
   "source": [
    "## Year_Building (Filtered)"
   ]
  },
  {
   "cell_type": "code",
   "execution_count": null,
   "metadata": {},
   "outputs": [],
   "source": [
    "count_missing_values(df['Year_Building'])\n",
    "df['Year_Building'].describe()"
   ]
  },
  {
   "cell_type": "code",
   "execution_count": null,
   "metadata": {
    "scrolled": false
   },
   "outputs": [],
   "source": [
    "plot = sns.distplot(df['Year_Building'])\n",
    "plot.set_xticks(np.arange(1900, 2021,10));"
   ]
  },
  {
   "cell_type": "code",
   "execution_count": null,
   "metadata": {},
   "outputs": [],
   "source": [
    "plot = quantile_values_plot(df, 'Year_Building')\n",
    "plot.set_yticks(np.arange(1850, 2025, 10));"
   ]
  },
  {
   "cell_type": "markdown",
   "metadata": {},
   "source": [
    "На графике видно, что основная часть зданий была построена начиная от 1960 года. Возможно, здания построенные до 1960 года стоит удалить из выборки."
   ]
  },
  {
   "cell_type": "code",
   "execution_count": null,
   "metadata": {},
   "outputs": [],
   "source": [
    "# df = df[df['Year_Building'] >= 1960]"
   ]
  },
  {
   "cell_type": "markdown",
   "metadata": {},
   "source": [
    "## Material (Filtered)"
   ]
  },
  {
   "cell_type": "code",
   "execution_count": null,
   "metadata": {
    "scrolled": true
   },
   "outputs": [],
   "source": [
    "count_missing_values(df['Material'])\n",
    "print(df['Material'].describe())\n",
    "df['Material'].value_counts()"
   ]
  },
  {
   "cell_type": "code",
   "execution_count": null,
   "metadata": {},
   "outputs": [],
   "source": [
    "df['Material'].fillna('Нет значения', inplace=True)"
   ]
  },
  {
   "cell_type": "code",
   "execution_count": null,
   "metadata": {
    "scrolled": false
   },
   "outputs": [],
   "source": [
    "sns.countplot(df['Material']);"
   ]
  },
  {
   "cell_type": "markdown",
   "metadata": {},
   "source": [
    "Что касается материала, то из выборки будут удалены квартиры, со следующими типами материала: [дерево, шлакоблок, стеноблочный]."
   ]
  },
  {
   "cell_type": "code",
   "execution_count": null,
   "metadata": {},
   "outputs": [],
   "source": [
    "df = df[[i in {'кирпич', 'панель', 'монолит', 'Нет значения'} for i in df['Material']]]"
   ]
  },
  {
   "cell_type": "markdown",
   "metadata": {},
   "source": [
    "## Apartment_Type (To delete)"
   ]
  },
  {
   "cell_type": "code",
   "execution_count": null,
   "metadata": {},
   "outputs": [],
   "source": [
    "count_missing_values(df['Apartment_Type'])\n",
    "print(df['Apartment_Type'].describe())\n",
    "df['Apartment_Type'].value_counts()"
   ]
  },
  {
   "cell_type": "code",
   "execution_count": null,
   "metadata": {
    "scrolled": false
   },
   "outputs": [],
   "source": [
    "sns.countplot(df['Apartment_Type']);"
   ]
  },
  {
   "cell_type": "markdown",
   "metadata": {},
   "source": [
    "Признак Apartment_Type имеет слишком много пропущенных значений, данный признак не будет принимать участия в дальнейшем анализе."
   ]
  },
  {
   "cell_type": "code",
   "execution_count": null,
   "metadata": {
    "scrolled": false
   },
   "outputs": [],
   "source": [
    "# df.drop('Apartment_Type', axis=1, inplace=True)"
   ]
  },
  {
   "cell_type": "markdown",
   "metadata": {},
   "source": [
    "## Rooms_Number (Filtered)"
   ]
  },
  {
   "cell_type": "code",
   "execution_count": null,
   "metadata": {},
   "outputs": [],
   "source": [
    "count_missing_values(df['Rooms_Number'])\n",
    "print(df['Rooms_Number'].describe())\n",
    "df['Rooms_Number'].value_counts()"
   ]
  },
  {
   "cell_type": "code",
   "execution_count": null,
   "metadata": {
    "scrolled": false
   },
   "outputs": [],
   "source": [
    "sns.countplot(df['Rooms_Number']);"
   ]
  },
  {
   "cell_type": "markdown",
   "metadata": {},
   "source": [
    "Основная доля приходится на квартиры с 1-4 комнатами, все остальные квартиры стоит удалить из выборки."
   ]
  },
  {
   "cell_type": "code",
   "execution_count": null,
   "metadata": {},
   "outputs": [],
   "source": [
    "df = df[df['Rooms_Number'] <= 4]"
   ]
  },
  {
   "cell_type": "markdown",
   "metadata": {},
   "source": [
    "## Apartment_Condition"
   ]
  },
  {
   "cell_type": "code",
   "execution_count": null,
   "metadata": {},
   "outputs": [],
   "source": [
    "count_missing_values(df['Apartment_Condition'])\n",
    "print(df['Apartment_Condition'].describe())\n",
    "df['Apartment_Condition'].value_counts()"
   ]
  },
  {
   "cell_type": "code",
   "execution_count": null,
   "metadata": {},
   "outputs": [],
   "source": [
    "df['Apartment_Condition'].fillna('Нет значения', inplace=True)"
   ]
  },
  {
   "cell_type": "code",
   "execution_count": null,
   "metadata": {
    "scrolled": false
   },
   "outputs": [],
   "source": [
    "sns.countplot(df['Apartment_Condition']);"
   ]
  },
  {
   "cell_type": "markdown",
   "metadata": {},
   "source": [
    "Большая часть квартир продается в хорошем состоянии, следом идут квартиры в отличном состоянии.  \n",
    "В дальнейшем анализе предстоит узнать, как указанное состояние связано с ценой квартиры."
   ]
  },
  {
   "cell_type": "markdown",
   "metadata": {},
   "source": [
    "## Bathroom_Type"
   ]
  },
  {
   "cell_type": "code",
   "execution_count": null,
   "metadata": {},
   "outputs": [],
   "source": [
    "count_missing_values(df['Bathroom_Type'])\n",
    "print(df['Bathroom_Type'].describe())\n",
    "df['Bathroom_Type'].value_counts()"
   ]
  },
  {
   "cell_type": "code",
   "execution_count": null,
   "metadata": {},
   "outputs": [],
   "source": [
    "df['Bathroom_Type'].fillna('Нет значения', inplace=True)"
   ]
  },
  {
   "cell_type": "code",
   "execution_count": null,
   "metadata": {
    "scrolled": false
   },
   "outputs": [],
   "source": [
    "sns.countplot(df['Bathroom_Type']);"
   ]
  },
  {
   "cell_type": "markdown",
   "metadata": {},
   "source": [
    "Что касается типа санузла, то чаще всего встречается совмещенный санузел, хотя разница не настолько критична."
   ]
  },
  {
   "cell_type": "markdown",
   "metadata": {},
   "source": [
    "## Balcony_Loggia"
   ]
  },
  {
   "cell_type": "code",
   "execution_count": null,
   "metadata": {},
   "outputs": [],
   "source": [
    "count_missing_values(df['Balcony_Loggia'])\n",
    "print(df['Balcony_Loggia'].describe())\n",
    "df['Balcony_Loggia'].value_counts()"
   ]
  },
  {
   "cell_type": "code",
   "execution_count": null,
   "metadata": {},
   "outputs": [],
   "source": [
    "df['Balcony_Loggia'].fillna('Нет значения', inplace=True)"
   ]
  },
  {
   "cell_type": "code",
   "execution_count": null,
   "metadata": {},
   "outputs": [],
   "source": [
    "plot = sns.countplot(df['Balcony_Loggia'])\n",
    "plot.set_xticklabels(plot.get_xticklabels(), rotation=45);"
   ]
  },
  {
   "cell_type": "markdown",
   "metadata": {},
   "source": [
    "## Address, Date_Add, Date_Expiration\n",
    "Данные признаки не получится проанализировать в том виде, в котором они имеются сейчас, но они будут использованы при попытке создания новых признаков (Feature Engeneering)."
   ]
  },
  {
   "cell_type": "markdown",
   "metadata": {},
   "source": [
    "## Summary"
   ]
  },
  {
   "cell_type": "code",
   "execution_count": null,
   "metadata": {
    "scrolled": true
   },
   "outputs": [],
   "source": [
    "def filter_df_main(df: pd.DataFrame) -> pd.DataFrame:\n",
    "    df.drop(['Square_Kitchen', 'Square_Living', 'Apartment_Type'], axis=1, inplace=True)\n",
    "    df.loc[:, ['Material','Apartment_Condition', 'Bathroom_Type', 'Balcony_Loggia']] = df.loc[:, ['Material','Apartment_Condition', 'Bathroom_Type', 'Balcony_Loggia']].fillna('Нет значения')\n",
    "    df = df[df['Rooms_Number'] <= 4]\n",
    "    df = df[[i in {'кирпич', 'панель', 'монолит', 'Нет значения'} for i in df['Material']]]\n",
    "    df = df[df['Year_Building'] >= 1960]\n",
    "    df = df[df['Floors_In_Building'] != 1]\n",
    "    df = df[df['Floor'] != 0]\n",
    "    \n",
    "    return df\n",
    "\n",
    "df = filter_df_main(df)"
   ]
  },
  {
   "cell_type": "code",
   "execution_count": null,
   "metadata": {},
   "outputs": [],
   "source": [
    "df.info()"
   ]
  },
  {
   "cell_type": "markdown",
   "metadata": {},
   "source": [
    "На данном этапе были оставлены:  \n",
    "    <li>Все столбцы, кроме: Square_Kitchen, Square_Living, Apartment_Type.\n",
    "    <li>Строки, в которых: \n",
    "        1. материал [кирпич, панель, монолит] или значение отсутствует;\n",
    "        2. количество комнат не более 4;\n",
    "        3. год постройки не ранее 1960;\n",
    "        4. этажность здания не равна 1;\n",
    "        5. этаж не равен 0."
   ]
  },
  {
   "cell_type": "markdown",
   "metadata": {},
   "source": [
    "# Анализ признаков с взаимодействиями, фильтрация данных\n",
    "В данном разделе будет проведен широкий и детальный анализ данных в разрезе различных признаков и их взаимодействиях.  \n",
    "Будет проведена обработка данных, фильтрация, заполнение пропусков и т.д."
   ]
  },
  {
   "cell_type": "code",
   "execution_count": null,
   "metadata": {
    "scrolled": false
   },
   "outputs": [],
   "source": [
    "df.columns.tolist()"
   ]
  },
  {
   "cell_type": "markdown",
   "metadata": {},
   "source": [
    "На рынке недвижимости ключевым ценообразующим признаком для квартиры считается общая площадь.  \n",
    "В то же время, отделять одни квартиры от других проще всего используя количество комнат.  \n",
    "Необходимо выяснить, отличается ли поведение стоимости, например, 1-комнатных квартир от остальных, и так проделать с каждым видом квартир"
   ]
  },
  {
   "cell_type": "code",
   "execution_count": null,
   "metadata": {
    "scrolled": false
   },
   "outputs": [],
   "source": [
    "quantile_values_plot(df, 'Price', 'Rooms_Number')"
   ]
  },
  {
   "cell_type": "markdown",
   "metadata": {},
   "source": [
    "На этом графике отражена зависимость квантилей и соответствующих им стоимостей квартиры в зависимости от количества комнат.  \n",
    "Из графика следует:\n",
    "<li>1 и 2-комнатные квартиры в практически 95% случаев имеют равномерное распределение стоимости, за исключением оставшихся 5%\n",
    "<li>3-комнатные квартиры имеют равномерное распределение примерно в 60% случаев, далее идет сильное увеличение стоимости квартир.\n",
    "<li>4-комнатные квартиры имеют равномерное распределение примерно в 45% случаев, далее начинается явная ассиметрия в стоимости квартир."
   ]
  },
  {
   "cell_type": "code",
   "execution_count": null,
   "metadata": {},
   "outputs": [],
   "source": [
    "for i in sorted(df['Rooms_Number'].unique().tolist()):\n",
    "    sns.kdeplot(df.loc[df['Rooms_Number'] == i, 'Price'], label=i)\n",
    "plt.legend();"
   ]
  },
  {
   "cell_type": "code",
   "execution_count": null,
   "metadata": {
    "scrolled": false
   },
   "outputs": [],
   "source": [
    "rooms_count = df['Rooms_Number'].value_counts().tolist()\n",
    "\n",
    "f, axes = plt.subplots(2, 2)\n",
    "\n",
    "sns.regplot(x='Square_Total', y='Price', data=df[df['Rooms_Number'] == 1], ax=axes[0, 0])\n",
    "sns.regplot(x='Square_Total', y='Price', data=df[df['Rooms_Number'] == 2], ax=axes[0, 1])\n",
    "sns.regplot(x='Square_Total', y='Price', data=df[df['Rooms_Number'] == 3], ax=axes[1, 0])\n",
    "sns.regplot(x='Square_Total', y='Price', data=df[df['Rooms_Number'] == 4], ax=axes[1, 1])\n",
    "axes[0, 0].legend([f\"Room 1 (Sample:{rooms_count[0]})\"])\n",
    "axes[0, 1].legend([f\"Room 2 (Sample:{rooms_count[1]})\"])\n",
    "axes[1, 0].legend([f\"Room 3 (Sample:{rooms_count[2]})\"])\n",
    "axes[1, 1].legend([f\"Room 4 (Sample:{rooms_count[3]})\"]);"
   ]
  },
  {
   "cell_type": "markdown",
   "metadata": {},
   "source": [
    "На всех графиках видно, что природа стоимости квартиры сильно меняется в зависимости от количества квартир.  \n",
    "Дальнейший анализ будет проводится отдельно для каждого вида квартир."
   ]
  },
  {
   "cell_type": "markdown",
   "metadata": {},
   "source": [
    "## 1-комнатные квартиры"
   ]
  },
  {
   "cell_type": "code",
   "execution_count": null,
   "metadata": {
    "scrolled": false
   },
   "outputs": [],
   "source": [
    "df_room_1 = df[df['Rooms_Number'] == 1]\n",
    "df_room_1.drop('Rooms_Number', axis=1, inplace=True)\n",
    "df_room_1.head(5)"
   ]
  },
  {
   "cell_type": "code",
   "execution_count": null,
   "metadata": {},
   "outputs": [],
   "source": [
    "df_room_1.info()"
   ]
  },
  {
   "cell_type": "markdown",
   "metadata": {},
   "source": [
    "### Price & Square_Total"
   ]
  },
  {
   "cell_type": "code",
   "execution_count": null,
   "metadata": {},
   "outputs": [],
   "source": [
    "plot = sns.distplot(df_room_1['Price'])\n",
    "plot.set_xticks(np.arange(0, 7000,500));"
   ]
  },
  {
   "cell_type": "code",
   "execution_count": null,
   "metadata": {},
   "outputs": [],
   "source": [
    "plot = sns.distplot(df_room_1['Square_Total'])\n",
    "plot.set_xticks(np.arange(0, 81,5));"
   ]
  },
  {
   "cell_type": "code",
   "execution_count": null,
   "metadata": {},
   "outputs": [],
   "source": [
    "plot = quantile_values_plot(df_room_1, 'Price')\n",
    "plot.set_yticks(np.arange(0, 4001, 500));"
   ]
  },
  {
   "cell_type": "code",
   "execution_count": null,
   "metadata": {},
   "outputs": [],
   "source": [
    "plot = quantile_values_plot(df_room_1, 'Square_Total')\n",
    "plot.set_yticks(np.arange(0,51, 5));"
   ]
  },
  {
   "cell_type": "code",
   "execution_count": null,
   "metadata": {
    "scrolled": false
   },
   "outputs": [],
   "source": [
    "sns.regplot(x='Square_Total', y='Price', data=df_room_1);"
   ]
  },
  {
   "cell_type": "markdown",
   "metadata": {},
   "source": [
    "На основе построенных графиках принято решение исключить из анализа 1-комнатные квартиры стоимостью ниже 500 т.р. и выше 3000 т.р., а также площадью ниже 12 кв. м и выше 50 кв. м"
   ]
  },
  {
   "cell_type": "code",
   "execution_count": null,
   "metadata": {},
   "outputs": [],
   "source": [
    "df_room_1.loc[df_room_1['Price'] < 500, ['Not_Used', 'Not_Used_Description']] = [1, 'Price lower than bound']\n",
    "df_room_1.loc[df_room_1['Price'] > 3000, ['Not_Used', 'Not_Used_Description']] = [1, 'Price higher than bound']\n",
    "df_room_1.loc[df_room_1['Square_Total'] < 12, ['Not_Used', 'Not_Used_Description']] = [1, 'Square_Total lower than bound']\n",
    "df_room_1.loc[df_room_1['Square_Total'] > 50, ['Not_Used', 'Not_Used_Description']] = [1, 'Square_Total higher than bound']"
   ]
  },
  {
   "cell_type": "code",
   "execution_count": null,
   "metadata": {},
   "outputs": [],
   "source": [
    "df_room_1.shape[0] - clean(df_room_1).shape[0]"
   ]
  },
  {
   "cell_type": "markdown",
   "metadata": {},
   "source": [
    "В результате фильтрации из 3144 экземпляров были отброшены 234 элемента."
   ]
  },
  {
   "cell_type": "code",
   "execution_count": null,
   "metadata": {},
   "outputs": [],
   "source": [
    "sns.lmplot(x='Square_Total', y='Price', hue='Not_Used', data=df_room_1, fit_reg=True, height=8, aspect=2);"
   ]
  },
  {
   "cell_type": "markdown",
   "metadata": {},
   "source": [
    "На графике синими точками обозначены экземпляры квартир, которые остаются в выборке и будут использоваться в дальнейшей аналитике."
   ]
  },
  {
   "cell_type": "markdown",
   "metadata": {},
   "source": [
    "### Price & Floors_In_Building\n",
    "Floors in Building - Количество этажей в здании (или просто этажность), представляет из себя целое число."
   ]
  },
  {
   "cell_type": "code",
   "execution_count": null,
   "metadata": {},
   "outputs": [],
   "source": [
    "a = box_count_plot(x='Floors_In_Building', y='Price', df=clean(df))\n",
    "type(a)"
   ]
  },
  {
   "cell_type": "code",
   "execution_count": null,
   "metadata": {
    "scrolled": false
   },
   "outputs": [],
   "source": [
    "box_count_plot(x='Floors_In_Building', y='Price', df=clean(df_room_1))"
   ]
  },
  {
   "cell_type": "markdown",
   "metadata": {},
   "source": [
    "В целом, можно наблюдать, что с повышением этажности здания, повышается и цена квартиры."
   ]
  },
  {
   "cell_type": "markdown",
   "metadata": {},
   "source": [
    "#### Floors_In_Buildings = 3"
   ]
  },
  {
   "cell_type": "code",
   "execution_count": null,
   "metadata": {
    "scrolled": false
   },
   "outputs": [],
   "source": [
    "sns.distplot(clean(df_room_1[df_room_1['Floors_In_Building']==3])['Price'], bins=20)"
   ]
  },
  {
   "cell_type": "code",
   "execution_count": null,
   "metadata": {},
   "outputs": [],
   "source": [
    "df_room_1[(df_room_1['Floors_In_Building']==3) & (df_room_1['Price'] > 2000)]"
   ]
  },
  {
   "cell_type": "markdown",
   "metadata": {},
   "source": [
    "Будут удалены записи, в которых для квартир в трехэтажных домах стоимость выше 2000 т.р."
   ]
  },
  {
   "cell_type": "code",
   "execution_count": null,
   "metadata": {},
   "outputs": [],
   "source": [
    "df_room_1.loc[(df_room_1['Floors_In_Building']==3) & (df_room_1['Price'] > 2000), ['Not_Used', 'Not_Used_Description']] = [1, 'Price higher than 3-floor buildings price']"
   ]
  },
  {
   "cell_type": "markdown",
   "metadata": {},
   "source": [
    "#### Floors_In_Buildings = 4"
   ]
  },
  {
   "cell_type": "code",
   "execution_count": null,
   "metadata": {},
   "outputs": [],
   "source": [
    "sns.distplot(clean(df_room_1[df_room_1['Floors_In_Building']==4])['Price'], bins=20)"
   ]
  },
  {
   "cell_type": "code",
   "execution_count": null,
   "metadata": {},
   "outputs": [],
   "source": [
    "df_room_1[(df_room_1['Floors_In_Building']==4) & (df_room_1['Price'] > 2500)]"
   ]
  },
  {
   "cell_type": "markdown",
   "metadata": {},
   "source": [
    "Будут удалены записи, в которых для квартир в 4-этажных домах стоимость выше 2500 т.р."
   ]
  },
  {
   "cell_type": "code",
   "execution_count": null,
   "metadata": {},
   "outputs": [],
   "source": [
    "df_room_1.loc[(df_room_1['Floors_In_Building']==4) & (df_room_1['Price'] > 2500), ['Not_Used', 'Not_Used_Description']] = [1, 'Price higher than 4-floor buildings price']"
   ]
  },
  {
   "cell_type": "markdown",
   "metadata": {},
   "source": [
    "#### Floors_In_Buildings = 12"
   ]
  },
  {
   "cell_type": "code",
   "execution_count": null,
   "metadata": {},
   "outputs": [],
   "source": [
    "sns.distplot(clean(df_room_1[df_room_1['Floors_In_Building']==12])['Price'], bins=25)"
   ]
  },
  {
   "cell_type": "code",
   "execution_count": null,
   "metadata": {},
   "outputs": [],
   "source": [
    "df_room_1.loc[(df_room_1['Floors_In_Building']==12) & (df_room_1['Price'] > 2800), ['Not_Used', 'Not_Used_Description']] = [1, 'Price higher than 12-floor buildings price']"
   ]
  },
  {
   "cell_type": "markdown",
   "metadata": {},
   "source": [
    "#### Floors_In_Buildings = 19"
   ]
  },
  {
   "cell_type": "code",
   "execution_count": null,
   "metadata": {},
   "outputs": [],
   "source": [
    "sns.distplot(clean(df_room_1[df_room_1['Floors_In_Building']==19])['Price'], bins=25)"
   ]
  },
  {
   "cell_type": "code",
   "execution_count": null,
   "metadata": {},
   "outputs": [],
   "source": [
    "clean(df_room_1[df_room_1['Floors_In_Building']==19]).sort_values('Price')"
   ]
  },
  {
   "cell_type": "code",
   "execution_count": null,
   "metadata": {},
   "outputs": [],
   "source": [
    "df_room_1.loc[(df_room_1['Floors_In_Building']==19) & (df_room_1['Price'] < 1500), ['Not_Used', 'Not_Used_Description']] = [1, 'Price lower than 19-floor buildings price']"
   ]
  },
  {
   "cell_type": "markdown",
   "metadata": {},
   "source": [
    "### Price & Floor\n",
    "Floor - Этаж, на котором расположена квартира представляет из себя целое число."
   ]
  },
  {
   "cell_type": "code",
   "execution_count": null,
   "metadata": {
    "scrolled": false
   },
   "outputs": [],
   "source": [
    "box_count_plot(x='Floor', y='Price', df=clean(df_room_1))"
   ]
  },
  {
   "cell_type": "markdown",
   "metadata": {},
   "source": [
    "С повышением этажа, на котором расположена квартира, повышается и стоимость квартиры."
   ]
  },
  {
   "cell_type": "markdown",
   "metadata": {},
   "source": [
    "### Price & District\n",
    "District - Район, в котором расположена квартира [Кировский, Советский, Ленинский, Октябрьский]"
   ]
  },
  {
   "cell_type": "code",
   "execution_count": null,
   "metadata": {
    "scrolled": false
   },
   "outputs": [],
   "source": [
    "box_count_plot(x='District', y='Price', df=clean(df_room_1))"
   ]
  },
  {
   "cell_type": "code",
   "execution_count": null,
   "metadata": {},
   "outputs": [],
   "source": [
    "sns.lmplot(x='Year_Building', y='Price', hue='District', data=clean(df_room_1), height=8, aspect=2)"
   ]
  },
  {
   "cell_type": "markdown",
   "metadata": {},
   "source": [
    "### Price & Year_Building\n",
    "Year_Building - Год постройки здания, в котором расположена квартира\n"
   ]
  },
  {
   "cell_type": "code",
   "execution_count": null,
   "metadata": {},
   "outputs": [],
   "source": [
    "count_missing_values(clean(df_room_1)['Year_Building'])\n",
    "print(clean(df_room_1)['Year_Building'].describe())\n",
    "plot = sns.distplot(clean(df_room_1)['Year_Building'])"
   ]
  },
  {
   "cell_type": "code",
   "execution_count": null,
   "metadata": {},
   "outputs": [],
   "source": [
    "plot = quantile_values_plot(clean(df_room_1), 'Year_Building')"
   ]
  },
  {
   "cell_type": "code",
   "execution_count": null,
   "metadata": {},
   "outputs": [],
   "source": [
    "sns.regplot(x='Year_Building', y='Price', data=clean(df_room_1))"
   ]
  },
  {
   "cell_type": "code",
   "execution_count": null,
   "metadata": {},
   "outputs": [],
   "source": [
    "plot = sns.boxplot(x='Year_Building', y='Price', data=clean(df_room_1))\n",
    "plot.set_xticklabels(plot.get_xticklabels(), rotation=90);"
   ]
  },
  {
   "cell_type": "markdown",
   "metadata": {},
   "source": [
    "В целом видно, что чем позже было построено здание, тем в среднем выше стоимость квартиры."
   ]
  },
  {
   "cell_type": "markdown",
   "metadata": {},
   "source": [
    "### Price & Material\n",
    "Material - Материал, из которого построено здание [кирпич, панель]"
   ]
  },
  {
   "cell_type": "code",
   "execution_count": null,
   "metadata": {
    "scrolled": false
   },
   "outputs": [],
   "source": [
    "box_count_plot(x='Material', y='Price', df=clean(df_room_1))"
   ]
  },
  {
   "cell_type": "code",
   "execution_count": null,
   "metadata": {},
   "outputs": [],
   "source": [
    "sns.lmplot(x='Year_Building', y='Price', hue='Material', data=clean(df_room_1), height=8, aspect=2)"
   ]
  },
  {
   "cell_type": "markdown",
   "metadata": {},
   "source": [
    "На основе графика и агрегации видно, что квартиры в панельных домах стоят дороже квартир в кирпичных домах."
   ]
  },
  {
   "cell_type": "markdown",
   "metadata": {},
   "source": [
    "### Price & Apartment_Condition\n",
    "Apartment_Condition - состояние квартиры"
   ]
  },
  {
   "cell_type": "code",
   "execution_count": null,
   "metadata": {
    "scrolled": false
   },
   "outputs": [],
   "source": [
    "box_count_plot(x='Apartment_Condition', y='Price', df=clean(df_room_1))"
   ]
  },
  {
   "cell_type": "code",
   "execution_count": null,
   "metadata": {},
   "outputs": [],
   "source": [
    "sns.distplot(clean(df_room_1[df_room_1['Apartment_Condition']=='черновая отделка'])['Price'])"
   ]
  },
  {
   "cell_type": "code",
   "execution_count": null,
   "metadata": {},
   "outputs": [],
   "source": [
    "df_room_1.loc[(df_room_1['Apartment_Condition']=='черновая отделка') & (df_room_1['Price'] < 1400), ['Not_Used', 'Not_Used_Description']] = [1, 'Price lower than \"черновая отделка\" price']\n",
    "df_room_1.loc[(df_room_1['Apartment_Condition']=='черновая отделка') & (df_room_1['Price'] > 2500), ['Not_Used', 'Not_Used_Description']] = [1, 'Price higher than \"черновая отделка\" price']"
   ]
  },
  {
   "cell_type": "code",
   "execution_count": null,
   "metadata": {},
   "outputs": [],
   "source": [
    "sns.lmplot(x='Year_Building', y='Price', hue='Apartment_Condition', data=clean(df_room_1), height=8, aspect=2)"
   ]
  },
  {
   "cell_type": "markdown",
   "metadata": {},
   "source": [
    "### Price & Bathroom_Type\n",
    "Bathroom_Type - тип санузла [совмещенный, раздельный]"
   ]
  },
  {
   "cell_type": "code",
   "execution_count": null,
   "metadata": {},
   "outputs": [],
   "source": [
    "box_count_plot(x='Bathroom_Type', y='Price', df=clean(df_room_1))"
   ]
  },
  {
   "cell_type": "code",
   "execution_count": null,
   "metadata": {},
   "outputs": [],
   "source": [
    "sns.lmplot(x='Year_Building', y='Price', hue='Bathroom_Type', data=clean(df_room_1), height=8, aspect=2)"
   ]
  },
  {
   "cell_type": "markdown",
   "metadata": {},
   "source": [
    "### Price & Balcony_Loggia\n",
    "Balcony_Loggia - тип/наличие балкона или лоджии"
   ]
  },
  {
   "cell_type": "code",
   "execution_count": null,
   "metadata": {},
   "outputs": [],
   "source": [
    "plot = box_count_plot(x='Balcony_Loggia', y='Price', df=clean(df_room_1))\n",
    "plot.set_xticklabels(plot.get_xticklabels(), rotation=45);"
   ]
  },
  {
   "cell_type": "code",
   "execution_count": null,
   "metadata": {},
   "outputs": [],
   "source": [
    "sns.distplot(clean(df_room_1[df_room_1['Balcony_Loggia'] == 'Нет значения'])['Price'])"
   ]
  },
  {
   "cell_type": "markdown",
   "metadata": {},
   "source": [
    "Будут удалены строки, в которых Balcony_Type содержат следующие значения: [2 лоджии, балкон и лоджия остекление, 2 балкона, 2 лоджии остекление, 2 балкона остекление]"
   ]
  },
  {
   "cell_type": "code",
   "execution_count": null,
   "metadata": {},
   "outputs": [],
   "source": [
    "Balcony_Loggia_to_delete = ['2 лоджии',\n",
    "                            'балкон и лоджия, остекление',\n",
    "                            '2 балкона',\n",
    "                            '2 лоджии, остекление',\n",
    "                            '2 балкона, остекление', \n",
    "                            'балкон и лоджия']\n",
    "idx_delete = [i in Balcony_Loggia_to_delete for i in df_room_1['Balcony_Loggia']]\n",
    "df_room_1.loc[idx_delete, ['Not_Used', 'Not_Used_Description']] = [1, 'Rare item in Balcony_Loggia']"
   ]
  },
  {
   "cell_type": "code",
   "execution_count": null,
   "metadata": {},
   "outputs": [],
   "source": [
    "len(df_room_1) - len(clean(df_room_1)) "
   ]
  },
  {
   "cell_type": "markdown",
   "metadata": {},
   "source": [
    "### Summary"
   ]
  },
  {
   "cell_type": "code",
   "execution_count": null,
   "metadata": {},
   "outputs": [],
   "source": [
    "def filter_df_room_1(df_room_1: pd.DataFrame) -> pd.DataFrame:\n",
    "    \n",
    "    # Price\n",
    "    df_room_1.loc[df_room_1['Price'] < 500, ['Not_Used', 'Not_Used_Description']] = [1, 'Price lower than bound']\n",
    "    df_room_1.loc[df_room_1['Price'] > 3000, ['Not_Used', 'Not_Used_Description']] = [1, 'Price higher than bound']\n",
    "\n",
    "    # Square_Total\n",
    "    df_room_1.loc[df_room_1['Square_Total'] < 12, ['Not_Used', 'Not_Used_Description']] = [1, 'Square_Total lower than bound']\n",
    "    df_room_1.loc[df_room_1['Square_Total'] > 50, ['Not_Used', 'Not_Used_Description']] = [1, 'Square_Total higher than bound']\n",
    "\n",
    "\n",
    "    # Floors_In_Building\n",
    "    df_room_1.loc[(df_room_1['Floors_In_Building'] == 3) & (df_room_1['Price'] > 2000), ['Not_Used', 'Not_Used_Description']] = [1, 'Price higher than 3-floor buildings price']\n",
    "    df_room_1.loc[(df_room_1['Floors_In_Building'] == 4) & (df_room_1['Price'] > 2500), ['Not_Used', 'Not_Used_Description']] = [1, 'Price higher than 4-floor buildings price']\n",
    "    df_room_1.loc[(df_room_1['Floors_In_Building'] == 12) & (df_room_1['Price'] > 2800), ['Not_Used', 'Not_Used_Description']] = [1, 'Price higher than 12-floor buildings price']\n",
    "    df_room_1.loc[(df_room_1['Floors_In_Building'] == 19) & (df_room_1['Price'] < 1500), ['Not_Used', 'Not_Used_Description']] = [1, 'Price lower than 19-floor buildings price']\n",
    "\n",
    "\n",
    "    # Apartment_Condition\n",
    "    df_room_1.loc[(df_room_1['Apartment_Condition'] == 'черновая отделка') & (df_room_1['Price'] < 1400), ['Not_Used', 'Not_Used_Description']] = [1, 'Price lower than \"черновая отделка\" price']\n",
    "    df_room_1.loc[(df_room_1['Apartment_Condition'] == 'черновая отделка') & (df_room_1['Price'] > 2500), ['Not_Used', 'Not_Used_Description']] = [1, 'Price higher than \"черновая отделка\" price']\n",
    "\n",
    "\n",
    "    # Balcony_Loggia\n",
    "    Balcony_Loggia_to_delete = ['2 лоджии',\n",
    "                                'балкон и лоджия, остекление',\n",
    "                                '2 балкона',\n",
    "                                '2 лоджии, остекление',\n",
    "                                '2 балкона, остекление', \n",
    "                                'балкон и лоджия']\n",
    "    idx_to_delete = [i in Balcony_Loggia_to_delete for i in df_room_1['Balcony_Loggia']]\n",
    "    df_room_1.loc[idx_to_delete, ['Not_Used', 'Not_Used_Description']] = [1, 'Rare item in Balcony_Loggia']\n",
    "    \n",
    "    return clean(df_room_1)\n",
    "\n",
    "df_room_1 = filter_df_room_1(df_room_1)"
   ]
  },
  {
   "cell_type": "markdown",
   "metadata": {},
   "source": [
    "# Создание моделей и новых признаков"
   ]
  },
  {
   "cell_type": "markdown",
   "metadata": {},
   "source": [
    "## 1-комнатные квартиры"
   ]
  },
  {
   "cell_type": "markdown",
   "metadata": {},
   "source": [
    "### Baseline"
   ]
  },
  {
   "cell_type": "markdown",
   "metadata": {},
   "source": [
    "На данном этапе в датафрейме имеется 15 признаков, из которых 6 нельзя использовать в качестве входа для моделей, так как:\n",
    "<li>Price - является выходом модели\n",
    "<li>Date_Add, Date_Expiration, Address - в текущем виде имеют слишком много уровней факторов, при бинаризации датафрейм сильно раздуется в ширину\n",
    "<li>Not_Used, Not_Used_Description - созданы для фильтрации\n",
    "\n",
    "Поэтому построим модели с оставшимися признаками"
   ]
  },
  {
   "cell_type": "code",
   "execution_count": null,
   "metadata": {},
   "outputs": [],
   "source": [
    "X = convert_to_dummies(clean(df_room_1).drop(['Date_Add', 'Date_Expiration', 'Address', 'Price', 'Not_Used', 'Not_Used_Description'], axis=1))\n",
    "y = clean(df_room_1)['Price']"
   ]
  },
  {
   "cell_type": "code",
   "execution_count": null,
   "metadata": {},
   "outputs": [],
   "source": [
    "X_train, X_test, y_train, y_test = train_test_split(X, y, test_size=0.3, random_state=0)"
   ]
  },
  {
   "cell_type": "markdown",
   "metadata": {},
   "source": [
    "#### KNeighborsRegressor"
   ]
  },
  {
   "cell_type": "code",
   "execution_count": null,
   "metadata": {},
   "outputs": [],
   "source": [
    "knn_grid = {\n",
    "    'n_neighbors': range(1, 30, 1),\n",
    "    'weights':['uniform', 'distance'],\n",
    "    'algorithm': ['auto', 'ball_tree', 'kd_tree', 'brute'],\n",
    "    'p':[1, 2],\n",
    "    'metric':['minkowski', 'euclidean', 'manhattan']\n",
    "}"
   ]
  },
  {
   "cell_type": "code",
   "execution_count": null,
   "metadata": {
    "scrolled": false
   },
   "outputs": [],
   "source": [
    "knn_gs = GridSearchCV(KNeighborsRegressor(),\n",
    "                  knn_grid,\n",
    "                  verbose=1,\n",
    "                  cv=5,\n",
    "                  n_jobs=-1\n",
    "                 )\n",
    "knn_gs.fit(X_train, y_train)"
   ]
  },
  {
   "cell_type": "code",
   "execution_count": null,
   "metadata": {},
   "outputs": [],
   "source": [
    "knn_gs.best_estimator_"
   ]
  },
  {
   "cell_type": "code",
   "execution_count": null,
   "metadata": {},
   "outputs": [],
   "source": [
    "with open('Models/Rooms_1/Baseline/KNN.pickle', 'wb') as file:\n",
    "    pickle.dump(knn_gs.best_estimator_, file)"
   ]
  },
  {
   "cell_type": "code",
   "execution_count": null,
   "metadata": {},
   "outputs": [],
   "source": [
    "with open('Models/Rooms_1/Baseline/KNN.pickle', 'rb') as file:\n",
    "    knn_gs_best_estimator_ = pickle.load(file)"
   ]
  },
  {
   "cell_type": "code",
   "execution_count": null,
   "metadata": {},
   "outputs": [],
   "source": [
    "knn_predict = knn_gs.predict(X_test)"
   ]
  },
  {
   "cell_type": "code",
   "execution_count": null,
   "metadata": {},
   "outputs": [],
   "source": [
    "mean_absolute_error(knn_predict, y_test)"
   ]
  },
  {
   "cell_type": "code",
   "execution_count": null,
   "metadata": {},
   "outputs": [],
   "source": [
    "np.mean(y_test)"
   ]
  },
  {
   "cell_type": "markdown",
   "metadata": {},
   "source": [
    "Модель KNN при оптимальных параметрах выдает среднюю ошибку в 155 тысяч рублей, при средней стоимости однокомнатных квартир в 1609 тысяч. В целом, это неплохой результат."
   ]
  },
  {
   "cell_type": "markdown",
   "metadata": {},
   "source": [
    "#### LinearRegression"
   ]
  },
  {
   "cell_type": "code",
   "execution_count": null,
   "metadata": {},
   "outputs": [],
   "source": [
    "regressor = LinearRegression()\n",
    "regressor.fit(X_train, y_train)"
   ]
  },
  {
   "cell_type": "code",
   "execution_count": null,
   "metadata": {},
   "outputs": [],
   "source": [
    "regressor_predict = regressor.predict(X_test)"
   ]
  },
  {
   "cell_type": "code",
   "execution_count": null,
   "metadata": {},
   "outputs": [],
   "source": [
    "mean_absolute_error(regressor_predict, y_test)"
   ]
  },
  {
   "cell_type": "code",
   "execution_count": null,
   "metadata": {},
   "outputs": [],
   "source": [
    "type(X_test)"
   ]
  },
  {
   "cell_type": "code",
   "execution_count": null,
   "metadata": {},
   "outputs": [],
   "source": [
    "np.mean(y_test)"
   ]
  },
  {
   "cell_type": "markdown",
   "metadata": {},
   "source": [
    "Обычная линейная регрессия показывает ошибку в 203 тысячи рублей, что на практически 50 тысяч хуже относительно KNN"
   ]
  },
  {
   "cell_type": "markdown",
   "metadata": {},
   "source": [
    "#### RandomForestRegressor"
   ]
  },
  {
   "cell_type": "code",
   "execution_count": null,
   "metadata": {},
   "outputs": [],
   "source": [
    "rf_gs = RandomForestRegressor(bootstrap=True, ccp_alpha=0.0, criterion='mse',\n",
    "                      max_depth=None, max_features='auto', max_leaf_nodes=None,\n",
    "                      max_samples=None, min_impurity_decrease=0.0,\n",
    "                      min_impurity_split=None, min_samples_leaf=1,\n",
    "                      min_samples_split=2, min_weight_fraction_leaf=0.0,\n",
    "                      n_estimators=400, n_jobs=None, oob_score=False,\n",
    "                      random_state=0, verbose=0, warm_start=False)\n",
    "rf_gs.fit(X_train, y_train)"
   ]
  },
  {
   "cell_type": "code",
   "execution_count": null,
   "metadata": {},
   "outputs": [],
   "source": [
    "with open('Models/Rooms_1/Baseline/RandomForestRegressor.pickle', 'wb') as file:\n",
    "    pickle.dump(rf_gs.best_estimator_, file)"
   ]
  },
  {
   "cell_type": "code",
   "execution_count": null,
   "metadata": {},
   "outputs": [],
   "source": [
    "with open('Models/Rooms_1/Baseline/RandomForestRegressor.pickle', 'rb') as file:\n",
    "    rf_gs_best_estimator_ = pickle.load(file)"
   ]
  },
  {
   "cell_type": "code",
   "execution_count": null,
   "metadata": {},
   "outputs": [],
   "source": [
    "rf_predict = rf_gs.predict(X_test)"
   ]
  },
  {
   "cell_type": "code",
   "execution_count": null,
   "metadata": {},
   "outputs": [],
   "source": [
    "data = pd.Series(data=rf_gs.feature_importances_, index=X_test.columns).sort_values(ascending=False)"
   ]
  },
  {
   "cell_type": "code",
   "execution_count": null,
   "metadata": {},
   "outputs": [],
   "source": [
    "data.plot.bar()"
   ]
  },
  {
   "cell_type": "code",
   "execution_count": null,
   "metadata": {},
   "outputs": [],
   "source": [
    "mean_absolute_error(rf_predict, y_test)"
   ]
  },
  {
   "cell_type": "code",
   "execution_count": null,
   "metadata": {},
   "outputs": [],
   "source": [
    "X_test.shape"
   ]
  },
  {
   "cell_type": "code",
   "execution_count": null,
   "metadata": {
    "scrolled": true
   },
   "outputs": [],
   "source": [
    "save_model(model=rf_gs,\n",
    "           model_name='Actual RFR',\n",
    "           rooms_number=1,\n",
    "           X_test=X_test,\n",
    "           y_test=y_test)"
   ]
  },
  {
   "cell_type": "markdown",
   "metadata": {},
   "source": [
    "# Save to excel"
   ]
  },
  {
   "cell_type": "code",
   "execution_count": 14,
   "metadata": {},
   "outputs": [],
   "source": [
    "query = \"\"\"SELECT \n",
    "                 Apartments.Url_Link,\n",
    "                 CAST(Apartments.Date_Add as date) AS Date_Add,\n",
    "                 CAST(Apartments.Date_Expiration as date) AS Date_Expiration,\n",
    "                 Apartments.District,\n",
    "                 Apartments.Address,\n",
    "                 Apartments.Year_Building,\n",
    "                 Apartments.Material,\n",
    "                 Apartments.Floor_Numbers_Of_Floors,\n",
    "                 Apartments.Square_Total,\n",
    "                 Apartments.Apartment_Condition,\n",
    "                 Apartments.Price / 1000 AS Price,\n",
    "                 Predictions.Predict,\n",
    "                 Predictions.Error\n",
    "           FROM Apartment_Tomsk.dbo.Predictions AS Predictions\n",
    "           INNER JOIN Apartment_Tomsk.dbo.Apartments AS Apartments\n",
    "               ON Predictions.Apartment_Key = Apartments.Apartment_Key\n",
    "           WHERE Error <=0\n",
    "           ORDER BY Date_Add DESC, Error\"\"\""
   ]
  },
  {
   "cell_type": "code",
   "execution_count": 15,
   "metadata": {},
   "outputs": [
    {
     "data": {
      "text/html": [
       "<div>\n",
       "<style scoped>\n",
       "    .dataframe tbody tr th:only-of-type {\n",
       "        vertical-align: middle;\n",
       "    }\n",
       "\n",
       "    .dataframe tbody tr th {\n",
       "        vertical-align: top;\n",
       "    }\n",
       "\n",
       "    .dataframe thead th {\n",
       "        text-align: right;\n",
       "    }\n",
       "</style>\n",
       "<table border=\"1\" class=\"dataframe\">\n",
       "  <thead>\n",
       "    <tr style=\"text-align: right;\">\n",
       "      <th></th>\n",
       "      <th>Ссылка</th>\n",
       "      <th>Дата истечения</th>\n",
       "      <th>Район</th>\n",
       "      <th>Адрес</th>\n",
       "      <th>Год постройки</th>\n",
       "      <th>Материал</th>\n",
       "      <th>Этаж/этажность</th>\n",
       "      <th>Площадь</th>\n",
       "      <th>Состояние</th>\n",
       "      <th>Цена</th>\n",
       "      <th>Прогноз</th>\n",
       "      <th>Ошибка</th>\n",
       "    </tr>\n",
       "    <tr>\n",
       "      <th>Дата добавления</th>\n",
       "      <th></th>\n",
       "      <th></th>\n",
       "      <th></th>\n",
       "      <th></th>\n",
       "      <th></th>\n",
       "      <th></th>\n",
       "      <th></th>\n",
       "      <th></th>\n",
       "      <th></th>\n",
       "      <th></th>\n",
       "      <th></th>\n",
       "      <th></th>\n",
       "    </tr>\n",
       "  </thead>\n",
       "  <tbody>\n",
       "    <tr>\n",
       "      <th>2020-10-03</th>\n",
       "      <td>https://www.tomsk.ru09.ru/realty?subaction=det...</td>\n",
       "      <td>2020-11-17</td>\n",
       "      <td>октябрьский район</td>\n",
       "      <td>Беринга 16</td>\n",
       "      <td>1973</td>\n",
       "      <td>кирпич</td>\n",
       "      <td>2/5</td>\n",
       "      <td>32 кв.м</td>\n",
       "      <td>требуется ремонт</td>\n",
       "      <td>1650.0</td>\n",
       "      <td>1810.97</td>\n",
       "      <td>-160.97</td>\n",
       "    </tr>\n",
       "    <tr>\n",
       "      <th>2020-10-03</th>\n",
       "      <td>https://www.tomsk.ru09.ru/realty?subaction=det...</td>\n",
       "      <td>2020-11-16</td>\n",
       "      <td>кировский район</td>\n",
       "      <td>Нахимова переулок 14</td>\n",
       "      <td>1966</td>\n",
       "      <td>кирпич</td>\n",
       "      <td>2/5</td>\n",
       "      <td>29.6 кв.м</td>\n",
       "      <td>требуется ремонт</td>\n",
       "      <td>1940.0</td>\n",
       "      <td>2019.17</td>\n",
       "      <td>-79.17</td>\n",
       "    </tr>\n",
       "    <tr>\n",
       "      <th>2020-10-02</th>\n",
       "      <td>https://www.tomsk.ru09.ru/realty?subaction=det...</td>\n",
       "      <td>2020-11-16</td>\n",
       "      <td>октябрьский район</td>\n",
       "      <td>Репина 15</td>\n",
       "      <td>1970</td>\n",
       "      <td>кирпич</td>\n",
       "      <td>3/5</td>\n",
       "      <td>32 кв.м</td>\n",
       "      <td>в хорошем состоянии</td>\n",
       "      <td>1600.0</td>\n",
       "      <td>1855.70</td>\n",
       "      <td>-255.70</td>\n",
       "    </tr>\n",
       "    <tr>\n",
       "      <th>2020-10-02</th>\n",
       "      <td>https://www.tomsk.ru09.ru/realty?subaction=det...</td>\n",
       "      <td>2020-11-16</td>\n",
       "      <td>ленинский район</td>\n",
       "      <td>ЛПК 2-й поселок 109/1</td>\n",
       "      <td>1984</td>\n",
       "      <td>кирпич</td>\n",
       "      <td>5/5</td>\n",
       "      <td>38 кв.м</td>\n",
       "      <td>в хорошем состоянии</td>\n",
       "      <td>1750.0</td>\n",
       "      <td>2003.63</td>\n",
       "      <td>-253.63</td>\n",
       "    </tr>\n",
       "    <tr>\n",
       "      <th>2020-10-02</th>\n",
       "      <td>https://www.tomsk.ru09.ru/realty?subaction=det...</td>\n",
       "      <td>2020-11-16</td>\n",
       "      <td>кировский район</td>\n",
       "      <td>Учебная 15</td>\n",
       "      <td>1982</td>\n",
       "      <td>кирпич</td>\n",
       "      <td>3/9</td>\n",
       "      <td>27 кв.м</td>\n",
       "      <td>в хорошем состоянии</td>\n",
       "      <td>1550.0</td>\n",
       "      <td>1696.36</td>\n",
       "      <td>-146.36</td>\n",
       "    </tr>\n",
       "  </tbody>\n",
       "</table>\n",
       "</div>"
      ],
      "text/plain": [
       "                                                            Ссылка  \\\n",
       "Дата добавления                                                      \n",
       "2020-10-03       https://www.tomsk.ru09.ru/realty?subaction=det...   \n",
       "2020-10-03       https://www.tomsk.ru09.ru/realty?subaction=det...   \n",
       "2020-10-02       https://www.tomsk.ru09.ru/realty?subaction=det...   \n",
       "2020-10-02       https://www.tomsk.ru09.ru/realty?subaction=det...   \n",
       "2020-10-02       https://www.tomsk.ru09.ru/realty?subaction=det...   \n",
       "\n",
       "                Дата истечения              Район                  Адрес  \\\n",
       "Дата добавления                                                            \n",
       "2020-10-03          2020-11-17  октябрьский район             Беринга 16   \n",
       "2020-10-03          2020-11-16    кировский район   Нахимова переулок 14   \n",
       "2020-10-02          2020-11-16  октябрьский район              Репина 15   \n",
       "2020-10-02          2020-11-16    ленинский район  ЛПК 2-й поселок 109/1   \n",
       "2020-10-02          2020-11-16    кировский район             Учебная 15   \n",
       "\n",
       "                 Год постройки Материал Этаж/этажность    Площадь  \\\n",
       "Дата добавления                                                     \n",
       "2020-10-03                1973   кирпич            2/5    32 кв.м   \n",
       "2020-10-03                1966   кирпич            2/5  29.6 кв.м   \n",
       "2020-10-02                1970   кирпич            3/5    32 кв.м   \n",
       "2020-10-02                1984   кирпич            5/5    38 кв.м   \n",
       "2020-10-02                1982   кирпич            3/9    27 кв.м   \n",
       "\n",
       "                           Состояние    Цена  Прогноз  Ошибка  \n",
       "Дата добавления                                                \n",
       "2020-10-03          требуется ремонт  1650.0  1810.97 -160.97  \n",
       "2020-10-03          требуется ремонт  1940.0  2019.17  -79.17  \n",
       "2020-10-02       в хорошем состоянии  1600.0  1855.70 -255.70  \n",
       "2020-10-02       в хорошем состоянии  1750.0  2003.63 -253.63  \n",
       "2020-10-02       в хорошем состоянии  1550.0  1696.36 -146.36  "
      ]
     },
     "execution_count": 15,
     "metadata": {},
     "output_type": "execute_result"
    }
   ],
   "source": [
    "data = pd.read_sql_query(query, engine)\n",
    "map_rename = {\n",
    "    'Url_Link': 'Ссылка', \n",
    "    'Date_Add': 'Дата добавления', \n",
    "    'Date_Expiration': 'Дата истечения',\n",
    "    'District': 'Район',\n",
    "    'Address': 'Адрес',\n",
    "    'Year_Building': 'Год постройки',\n",
    "    'Material': 'Материал',\n",
    "    'Floor_Numbers_Of_Floors': 'Этаж/этажность',\n",
    "    'Square_Total': 'Площадь',\n",
    "    'Apartment_Condition': 'Состояние',\n",
    "    'Price': 'Цена',\n",
    "    'Predict': 'Прогноз',\n",
    "    'Error': 'Ошибка',\n",
    "}\n",
    "data.rename(columns=map_rename, inplace=True)\n",
    "data.set_index('Дата добавления', inplace=True, drop=True)\n",
    "data.index = pd.to_datetime(data.index)\n",
    "data.head()"
   ]
  },
  {
   "cell_type": "code",
   "execution_count": 16,
   "metadata": {},
   "outputs": [],
   "source": [
    "data_out = data.groupby(pd.Grouper(freq='D')).apply(lambda x: x.sort_values('Ошибка').iloc[0:10])"
   ]
  },
  {
   "cell_type": "code",
   "execution_count": 17,
   "metadata": {
    "scrolled": true
   },
   "outputs": [],
   "source": [
    "data_out.reset_index(level=0, drop=True, inplace=True)"
   ]
  },
  {
   "cell_type": "code",
   "execution_count": 18,
   "metadata": {},
   "outputs": [],
   "source": [
    "data_out.reset_index(inplace=True)"
   ]
  },
  {
   "cell_type": "code",
   "execution_count": 277,
   "metadata": {},
   "outputs": [
    {
     "data": {
      "text/html": [
       "<div>\n",
       "<style scoped>\n",
       "    .dataframe tbody tr th:only-of-type {\n",
       "        vertical-align: middle;\n",
       "    }\n",
       "\n",
       "    .dataframe tbody tr th {\n",
       "        vertical-align: top;\n",
       "    }\n",
       "\n",
       "    .dataframe thead th {\n",
       "        text-align: right;\n",
       "    }\n",
       "</style>\n",
       "<table border=\"1\" class=\"dataframe\">\n",
       "  <thead>\n",
       "    <tr style=\"text-align: right;\">\n",
       "      <th></th>\n",
       "      <th>Дата добавления</th>\n",
       "      <th>Ссылка</th>\n",
       "      <th>Дата истечения</th>\n",
       "      <th>Район</th>\n",
       "      <th>Адрес</th>\n",
       "      <th>Год постройки</th>\n",
       "      <th>Материал</th>\n",
       "      <th>Этаж/этажность</th>\n",
       "      <th>Площадь</th>\n",
       "      <th>Состояние</th>\n",
       "      <th>Цена</th>\n",
       "      <th>Прогноз</th>\n",
       "      <th>Ошибка</th>\n",
       "    </tr>\n",
       "  </thead>\n",
       "  <tbody>\n",
       "    <tr>\n",
       "      <th>0</th>\n",
       "      <td>2020-01-24</td>\n",
       "      <td>https://www.tomsk.ru09.ru/realty?subaction=det...</td>\n",
       "      <td>2020-05-05</td>\n",
       "      <td>ленинский район</td>\n",
       "      <td>Кедровая 34</td>\n",
       "      <td>2019</td>\n",
       "      <td>кирпич</td>\n",
       "      <td>5/14</td>\n",
       "      <td>42 кв.м</td>\n",
       "      <td>в отличном состоянии</td>\n",
       "      <td>2500.0</td>\n",
       "      <td>2671.12</td>\n",
       "      <td>-171.12</td>\n",
       "    </tr>\n",
       "    <tr>\n",
       "      <th>1</th>\n",
       "      <td>2020-01-25</td>\n",
       "      <td>https://www.tomsk.ru09.ru/realty?subaction=det...</td>\n",
       "      <td>2020-05-07</td>\n",
       "      <td>октябрьский район</td>\n",
       "      <td>79-й Гвардейской Дивизии 1</td>\n",
       "      <td>1979</td>\n",
       "      <td>кирпич</td>\n",
       "      <td>7/9</td>\n",
       "      <td>24 кв.м</td>\n",
       "      <td>в хорошем состоянии</td>\n",
       "      <td>550.0</td>\n",
       "      <td>855.80</td>\n",
       "      <td>-305.80</td>\n",
       "    </tr>\n",
       "    <tr>\n",
       "      <th>2</th>\n",
       "      <td>2020-01-27</td>\n",
       "      <td>https://www.tomsk.ru09.ru/realty?subaction=det...</td>\n",
       "      <td>None</td>\n",
       "      <td>кировский район</td>\n",
       "      <td>Тверская 106</td>\n",
       "      <td>1964</td>\n",
       "      <td>кирпич</td>\n",
       "      <td>1/5</td>\n",
       "      <td>18 кв.м</td>\n",
       "      <td>требуется ремонт</td>\n",
       "      <td>940.0</td>\n",
       "      <td>985.40</td>\n",
       "      <td>-45.40</td>\n",
       "    </tr>\n",
       "    <tr>\n",
       "      <th>3</th>\n",
       "      <td>2020-01-28</td>\n",
       "      <td>https://www.tomsk.ru09.ru/realty?subaction=det...</td>\n",
       "      <td>2020-05-03</td>\n",
       "      <td>советский район</td>\n",
       "      <td>Вавилова 10</td>\n",
       "      <td>2010</td>\n",
       "      <td>кирпич</td>\n",
       "      <td>2/5</td>\n",
       "      <td>30.6 кв.м</td>\n",
       "      <td>в отличном состоянии</td>\n",
       "      <td>1750.0</td>\n",
       "      <td>1829.06</td>\n",
       "      <td>-79.06</td>\n",
       "    </tr>\n",
       "    <tr>\n",
       "      <th>4</th>\n",
       "      <td>2020-02-01</td>\n",
       "      <td>https://www.tomsk.ru09.ru/realty?subaction=det...</td>\n",
       "      <td>2020-05-01</td>\n",
       "      <td>ленинский район</td>\n",
       "      <td>Говорова 36</td>\n",
       "      <td>1971</td>\n",
       "      <td>кирпич</td>\n",
       "      <td>1/5</td>\n",
       "      <td>34.4 кв.м</td>\n",
       "      <td>требуется ремонт</td>\n",
       "      <td>1550.0</td>\n",
       "      <td>1679.78</td>\n",
       "      <td>-129.78</td>\n",
       "    </tr>\n",
       "  </tbody>\n",
       "</table>\n",
       "</div>"
      ],
      "text/plain": [
       "  Дата добавления                                             Ссылка  \\\n",
       "0      2020-01-24  https://www.tomsk.ru09.ru/realty?subaction=det...   \n",
       "1      2020-01-25  https://www.tomsk.ru09.ru/realty?subaction=det...   \n",
       "2      2020-01-27  https://www.tomsk.ru09.ru/realty?subaction=det...   \n",
       "3      2020-01-28  https://www.tomsk.ru09.ru/realty?subaction=det...   \n",
       "4      2020-02-01  https://www.tomsk.ru09.ru/realty?subaction=det...   \n",
       "\n",
       "  Дата истечения              Район                       Адрес  \\\n",
       "0     2020-05-05    ленинский район                 Кедровая 34   \n",
       "1     2020-05-07  октябрьский район  79-й Гвардейской Дивизии 1   \n",
       "2           None    кировский район                Тверская 106   \n",
       "3     2020-05-03    советский район                 Вавилова 10   \n",
       "4     2020-05-01    ленинский район                 Говорова 36   \n",
       "\n",
       "   Год постройки Материал Этаж/этажность    Площадь             Состояние  \\\n",
       "0           2019   кирпич           5/14    42 кв.м  в отличном состоянии   \n",
       "1           1979   кирпич            7/9    24 кв.м   в хорошем состоянии   \n",
       "2           1964   кирпич            1/5    18 кв.м      требуется ремонт   \n",
       "3           2010   кирпич            2/5  30.6 кв.м  в отличном состоянии   \n",
       "4           1971   кирпич            1/5  34.4 кв.м      требуется ремонт   \n",
       "\n",
       "     Цена  Прогноз  Ошибка  \n",
       "0  2500.0  2671.12 -171.12  \n",
       "1   550.0   855.80 -305.80  \n",
       "2   940.0   985.40  -45.40  \n",
       "3  1750.0  1829.06  -79.06  \n",
       "4  1550.0  1679.78 -129.78  "
      ]
     },
     "execution_count": 277,
     "metadata": {},
     "output_type": "execute_result"
    }
   ],
   "source": [
    "data_out.head()"
   ]
  },
  {
   "cell_type": "code",
   "execution_count": 19,
   "metadata": {},
   "outputs": [],
   "source": [
    "data_out.sort_values(['Дата добавления', 'Ошибка'], ascending=[False, True], inplace=True)"
   ]
  },
  {
   "cell_type": "code",
   "execution_count": 20,
   "metadata": {},
   "outputs": [],
   "source": [
    "data_out['Дата добавления'] = data_out['Дата добавления'].astype(str)\n",
    "data_out['Дата истечения'] = data_out['Дата истечения'].astype(str)"
   ]
  },
  {
   "cell_type": "markdown",
   "metadata": {},
   "source": [
    "## openpyxl"
   ]
  },
  {
   "cell_type": "code",
   "execution_count": 21,
   "metadata": {},
   "outputs": [],
   "source": [
    "from openpyxl import Workbook\n",
    "from openpyxl.utils.dataframe import dataframe_to_rows\n",
    "from openpyxl.styles import PatternFill, Border, Side, Alignment, Protection, Font, NamedStyle\n",
    "from openpyxl.styles.colors import Color\n",
    "from openpyxl.formatting.rule import ColorScaleRule"
   ]
  },
  {
   "cell_type": "code",
   "execution_count": 22,
   "metadata": {},
   "outputs": [],
   "source": [
    "font = Font(color='FF928B', \n",
    "              b=True, \n",
    "              i=True, \n",
    "              name='SegoeUI', \n",
    "              size=11)\n",
    "alignment=Alignment(horizontal='center',\n",
    "                    vertical='center',\n",
    "                    wrap_text=True,\n",
    "                    shrink_to_fit=False,\n",
    "                    indent=0)"
   ]
  },
  {
   "cell_type": "code",
   "execution_count": 23,
   "metadata": {},
   "outputs": [],
   "source": [
    "headers_style = NamedStyle(name=\"headers_style\")\n",
    "headers_style.font = Font(b=True, name='SegoeUI', size=11)\n",
    "headers_style.fill = PatternFill(fgColor='CDEAC0', fill_type='solid')\n",
    "headers_style.alignment = Alignment(horizontal='center',\n",
    "                                    vertical='center',\n",
    "                                    wrap_text=True,\n",
    "                                    shrink_to_fit=False,\n",
    "                                    indent=0)"
   ]
  },
  {
   "cell_type": "code",
   "execution_count": 24,
   "metadata": {},
   "outputs": [],
   "source": [
    "base_style = NamedStyle(name=\"base_style\")\n",
    "base_style.font = Font(name='SegoeUI', size=10)\n",
    "base_style.alignment = Alignment(horizontal='center', vertical='center')"
   ]
  },
  {
   "cell_type": "code",
   "execution_count": 25,
   "metadata": {},
   "outputs": [],
   "source": [
    "text_wrap_style = NamedStyle(name=\"text_wrap_style\")\n",
    "text_wrap_style.alignment = Alignment(horizontal='center',\n",
    "                                    vertical='center',\n",
    "                                    wrap_text=True,\n",
    "                                    shrink_to_fit=True,\n",
    "                                    indent=0)"
   ]
  },
  {
   "cell_type": "code",
   "execution_count": 26,
   "metadata": {
    "scrolled": true
   },
   "outputs": [],
   "source": [
    "wb = Workbook()\n",
    "wb.add_named_style(headers_style)\n",
    "wb.add_named_style(base_style)\n",
    "wb.add_named_style(text_wrap_style)\n",
    "ws = wb.active\n",
    "ws.auto_filter.ref = \"A1:M1\"\n",
    "\n",
    "# Add data\n",
    "for r in dataframe_to_rows(data_out, index=False, header=True):\n",
    "    ws.append(r)\n",
    "    \n",
    "# Set Base style \n",
    "for columns in ws['A:M']:\n",
    "    for cell in columns[1:]:\n",
    "        cell.style = base_style\n",
    "\n",
    "# Set style for Headers\n",
    "cells = ws['A1:M1']\n",
    "for cell in cells[0]:\n",
    "    cell.style = headers_style\n",
    "\n",
    "# Set style for Hyperlink\n",
    "for cell in ws['B:B'][1:]:\n",
    "    cell.hyperlink = cell.value\n",
    "    cell.style = 'Hyperlink'\n",
    "\n",
    "for column in ['D', 'E', 'J']:\n",
    "    for cell in ws[f'{column}:{column}'][1:]:\n",
    "        cell.style = text_wrap_style\n",
    "\n",
    "\n",
    "# Set width for columns\n",
    "columns = ['A', 'B', 'C', 'D', 'E', 'F', 'G', 'H', 'I', 'J', 'K', 'L', 'M']\n",
    "for column in columns:\n",
    "    ws.column_dimensions[column].width = 13\n",
    "for row in range(len(ws['A'])):\n",
    "    ws.row_dimensions[row].height = 25.5\n",
    "    \n",
    "start = 2\n",
    "list_to_merge = []\n",
    "for i in data_out['Дата добавления'].value_counts().sort_index(ascending=False).values:\n",
    "    list_to_merge.append([start, start+i-1])\n",
    "    start += i\n",
    "\n",
    "flag = 2\n",
    "for i, j in list_to_merge:\n",
    "    ws.merge_cells(f'A{i}:A{j}')\n",
    "    if flag % 2 == 0: \n",
    "        ws[f'A{i}'].fill = headers_style.fill\n",
    "    ws[f'A{i}'].font = headers_style.font\n",
    "    ws[f'A{i}'].alignment = headers_style.alignment\n",
    "    flag += 1\n",
    "    ws.conditional_formatting.add(f'M{i}:M{j}',\n",
    "                   ColorScaleRule(start_type='max', end_type='min', start_color='CAFFBF',\n",
    "                                  end_color='FFD6A5')\n",
    "                             )\n",
    "\n",
    "wb.save(\"pandas_openpyxl2.xlsx\")"
   ]
  },
  {
   "cell_type": "code",
   "execution_count": null,
   "metadata": {},
   "outputs": [],
   "source": []
  },
  {
   "cell_type": "code",
   "execution_count": null,
   "metadata": {},
   "outputs": [],
   "source": []
  }
 ],
 "metadata": {
  "kernelspec": {
   "display_name": "Python 3",
   "language": "python",
   "name": "python3"
  },
  "language_info": {
   "codemirror_mode": {
    "name": "ipython",
    "version": 3
   },
   "file_extension": ".py",
   "mimetype": "text/x-python",
   "name": "python",
   "nbconvert_exporter": "python",
   "pygments_lexer": "ipython3",
   "version": "3.7.6"
  },
  "toc": {
   "base_numbering": 1,
   "nav_menu": {
    "height": "416.989px",
    "width": "320px"
   },
   "number_sections": true,
   "sideBar": true,
   "skip_h1_title": false,
   "title_cell": "Оглавление",
   "title_sidebar": "Оглавление",
   "toc_cell": true,
   "toc_position": {
    "height": "calc(100% - 180px)",
    "left": "10px",
    "top": "150px",
    "width": "289.219px"
   },
   "toc_section_display": true,
   "toc_window_display": true
  }
 },
 "nbformat": 4,
 "nbformat_minor": 4
}
